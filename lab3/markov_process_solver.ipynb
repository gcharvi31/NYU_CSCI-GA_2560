{
 "cells": [
  {
   "cell_type": "code",
   "execution_count": 1,
   "id": "a1712681-6ba8-4b1a-9860-3c94f80e2ad6",
   "metadata": {
    "tags": []
   },
   "outputs": [],
   "source": [
    "from collections import defaultdict, Counter\n",
    "from copy import deepcopy\n",
    "import logging as log"
   ]
  },
  {
   "cell_type": "code",
   "execution_count": 2,
   "id": "9673babe-3952-46ff-8bc4-8ec30375debf",
   "metadata": {
    "tags": []
   },
   "outputs": [],
   "source": [
    "log.basicConfig(\n",
    "            format=\"%(levelname)s: %(message)s\",\n",
    "            level=log.DEBUG\n",
    "                        )"
   ]
  },
  {
   "cell_type": "code",
   "execution_count": 3,
   "id": "c229cbb4-1591-4227-b8a1-6cddac45f720",
   "metadata": {
    "tags": []
   },
   "outputs": [],
   "source": [
    "def read_input(filename):\n",
    "    with open(filename, 'r') as f:\n",
    "        lines = f.readlines()\n",
    "    return lines"
   ]
  },
  {
   "cell_type": "code",
   "execution_count": 12,
   "id": "0ff6f85d-29f9-4467-bd4a-87ecec0965ae",
   "metadata": {},
   "outputs": [],
   "source": [
    "class Node:\n",
    "    \"\"\"Class Node represents a node in the graph input\"\"\"\n",
    "\n",
    "    def __init__(self, name):\n",
    "        self.name = name\n",
    "        self.node_type = None\n",
    "        self.reward = None\n",
    "        self.value = 0\n",
    "        self.edges = []\n",
    "        self.probs = []\n",
    "        self.current_policy = name\n",
    "        \n",
    "    def __repr__(self,):\n",
    "        stats = {\n",
    "            \"name\": self.name,\n",
    "            \"node_type\": self.node_type,\n",
    "            \"edges\": self.edges,\n",
    "            \"probs\": self.probs,\n",
    "            \"value\": self.value,\n",
    "            \"reward\": self.reward,\n",
    "            \"current_policy\": self.current_policy\n",
    "        }\n",
    "        repr_ = str(stats)\n",
    "        return repr_\n",
    "    \n",
    "    def __str__(self,):\n",
    "        return f\"({self.name}, {self.node_type})\"\n",
    "    \n",
    "    def add_to_edges(self, edge):\n",
    "        self.edges.append(edge)\n",
    "        \n",
    "    def add_to_probs(self, prob):\n",
    "        self.probs.append(prob)\n",
    "        \n",
    "    def sum_probs(self,):\n",
    "        return sum(self.probs)\n",
    "    \n",
    "    def print_policy(self,):\n",
    "        print(f\"{self.name} -> {self.current_policy}\")"
   ]
  },
  {
   "cell_type": "code",
   "execution_count": 13,
   "id": "01a31dfd-87b1-4b85-9160-37d08b826d77",
   "metadata": {
    "tags": []
   },
   "outputs": [],
   "source": [
    "def tokenize_line(line):\n",
    "    if \"[\" in line:\n",
    "        line = line.replace(\"[\", \" [ \")\n",
    "    if \"]\" in line:\n",
    "        line = line.replace(\"]\", \" ] \")\n",
    "    if \":\" in line:\n",
    "        line = line.replace(\":\", \" : \")\n",
    "    if \"%\" in line:\n",
    "        line = line.replace(\"%\", \" % \")\n",
    "    if \"=\" in line:\n",
    "        line = line.replace(\"=\", \" = \")\n",
    "    if \",\" in line:\n",
    "        line = line.replace(\",\", \" \")\n",
    "    return line"
   ]
  },
  {
   "cell_type": "code",
   "execution_count": 14,
   "id": "ab604174-6631-4912-b494-b0db83a8f8f6",
   "metadata": {
    "tags": []
   },
   "outputs": [],
   "source": [
    "def parse_input(filename):\n",
    "    '''\n",
    "    Tokenize line, convert tokens to numbers\n",
    "    '''\n",
    "    # Read and clean input lines\n",
    "    lines = read_input(filename=filename)\n",
    "    lines = [l.strip('\\n') for l in lines if l != '\\n']  #remove extra spaces from input\n",
    "    lines = [l for l in lines if not \"#\" in l]    \n",
    "    # tokenize line\n",
    "    lines = [tokenize_line(l) for l in lines]\n",
    "    lines = [l.strip().split() for l in lines]\n",
    "    # convert numeric tokens to numerics\n",
    "    lines_ = []\n",
    "    for line in lines:\n",
    "        # for float values\n",
    "        line = [float(item) if item.replace('.','',1).isdigit() == True else item for item in line]\n",
    "        # for negative values\n",
    "        line = [float(item) if (type(item)==str and item.replace('-','',1).isdigit() == True) else item for item in line]\n",
    "        lines_.append(line)\n",
    "    return lines_\n"
   ]
  },
  {
   "cell_type": "code",
   "execution_count": 15,
   "id": "876e31fd-60f5-4232-9386-6aab29ca6828",
   "metadata": {
    "tags": []
   },
   "outputs": [],
   "source": [
    "def create_nodes_from_input(lines):\n",
    "    name2nodes = {}\n",
    "    for line in lines:\n",
    "        name = line[0]\n",
    "        if name not in name2nodes:\n",
    "            name2nodes[name] = Node(name=name)\n",
    "            \n",
    "    return name2nodes"
   ]
  },
  {
   "cell_type": "code",
   "execution_count": 19,
   "id": "85a18ed0-0cf5-4c43-be90-e12eb0de98e5",
   "metadata": {
    "tags": []
   },
   "outputs": [],
   "source": [
    "def assign_rewards_probs_edges(lines, name2nodes):\n",
    "    for line in lines:\n",
    "        # Reward/cost line\n",
    "        if \"=\" in line:\n",
    "            name, reward = line[0], line[-1]\n",
    "            name2nodes[name].reward = reward\n",
    "        # Probabilities line\n",
    "        if \"%\" in line: \n",
    "            name, probs = line[0], line[line.index('%')+1:]\n",
    "            for prob_val in probs:\n",
    "                name2nodes[name].add_to_probs(prob_val)\n",
    "        # Edges line\n",
    "        if all(x in line for x in ['[', ']']): \n",
    "            name, edges = line[0], line[line.index('[')+1:line.index(']')]\n",
    "            for edge in edges:\n",
    "                name2nodes[name].add_to_edges(edge)\n",
    "    return name2nodes\n",
    "            "
   ]
  },
  {
   "cell_type": "code",
   "execution_count": 20,
   "id": "0a373925-9afd-4557-8f6b-a26b7dbf9766",
   "metadata": {},
   "outputs": [],
   "source": [
    "def assign_nodetype(name2nodes):\n",
    "    for name in name2nodes:\n",
    "        node = name2nodes[name]\n",
    "        \n",
    "        # If a node has edges but no probability entry, it is assumed to be a decision node with p=1\n",
    "        if len(node.edges)!=0:\n",
    "            if len(node.probs)==0:\n",
    "                node.add_probs(1.0)\n",
    "            if len(node.probs)==1:\n",
    "                node.node_type = 'Decision'\n",
    "        \n",
    "        # If a node has edges but no reward entry, it is assumed to have a reward of 0\n",
    "        if len(node.edges)!=0 and node.reward is None:\n",
    "            node.reward = 0\n",
    "        \n",
    "        # If a node has no edges it is terminal. A probability entry for such a node is an error.\n",
    "        if len(node.edges)==0:\n",
    "            if len(node.probs)!=0:\n",
    "                print(\"probability entry for Terminal node found, exiting... \")\n",
    "                exit(0)\n",
    "            else:\n",
    "                node.node_type = 'Terminal'\n",
    "        \n",
    "        # A node with the same number of probabilities as edges is a chance node, with synchronized positions.        \n",
    "        if len(node.edges)>0 and len(node.edges)==len(node.probs):\n",
    "            node.node_type = 'Chance'\n",
    "        \n",
    "        # TODO\n",
    "        # If a node has a single edge it always transitions there. (this is useful for capturing some reward on the way)\n",
    "        # A node referenced as an edge must separately have one of the three entries to be valid\n",
    "        # Therefore to create a 0 value terminal node you must do 'name = 0'\n",
    "        \n",
    "    \n",
    "    for name in name2nodes:\n",
    "        node = name2nodes[name]\n",
    "        if node.node_type=='Chance':\n",
    "            try:\n",
    "                assert node.sum_probs()==1.0\n",
    "            except:\n",
    "                print(\"Chance node probabilities do not sum to 1.0, exiting...\")\n",
    "                exit(0)\n",
    "    \n",
    "    return name2nodes\n",
    "        \n",
    "            \n",
    "            \n",
    "        "
   ]
  },
  {
   "cell_type": "code",
   "execution_count": 33,
   "id": "91ec3bbe-db00-49a7-80d5-93b38da190c3",
   "metadata": {
    "tags": []
   },
   "outputs": [],
   "source": [
    "def compute_new_value(node, arg_df):\n",
    "    \"\"\"\n",
    "    Using Bellman update equation\n",
    "    \"\"\"\n",
    "    new_value = 0.0\n",
    "    if node.node_type=='Terminal':\n",
    "        return node.reward\n",
    "    else:\n",
    "        new_value, edge_value_sum = 0.0, 0.0\n",
    "        if node.node_type=='Chance':\n",
    "            for idx, edge in enumerate(node.edges):\n",
    "                edge_value_sum += node.probs[idx]*name2nodes[edge].value\n",
    "        elif node.node_type=='Decision':\n",
    "            policy, main_prob = node.current_policy, node.probs[0]\n",
    "            rem_prob = (1-main_prob)/(len(node.edges) - 1) if len(node.edges)!=1 else 0.0\n",
    "            for _, edge in enumerate(node.edges):\n",
    "                if policy==edge:\n",
    "                    edge_value_sum += main_prob*name2nodes[edge].value\n",
    "                else:\n",
    "                    edge_value_sum += rem_prob*name2nodes[edge].value\n",
    "        new_value = node.reward + (arg_df * edge_value_sum)\n",
    "        return new_value\n",
    "\n",
    "\n",
    "def value_iteration_step(name2nodes, arg_df):\n",
    "    max_delta = 0.0\n",
    "    for name in name2nodes:\n",
    "        node, value_old = name2nodes[name], name2nodes[name].value\n",
    "        value_new = compute_new_value(node, arg_df=arg_df)\n",
    "        delta = abs(value_new - value_old)\n",
    "        if delta > max_delta:\n",
    "            max_delta = delta\n",
    "    return max_delta\n",
    "        \n",
    "\n",
    "def value_iteration(name2nodes, arg_df, arg_tol, arg_iter):\n",
    "    for _ in range(arg_iter):\n",
    "        delta = value_iteration_step(name2nodes, arg_df)\n",
    "        if arg_tol >= delta:\n",
    "            break\n",
    "            \n",
    "\n",
    "def compute_new_policy(node, name2nodes, arg_min):\n",
    "    return node.current_policy\n",
    "    \n",
    "    \n",
    "def greedy_policy_computation(name2nodes, arg_min):\n",
    "    policy_change = False\n",
    "    for name in name2nodes:\n",
    "        node = name2nodes[name]\n",
    "        if node.node_type=='Decision':\n",
    "            old_policy = node.current_policy\n",
    "            new_policy = compute_new_policy(node, name2nodes, arg_min)\n",
    "            if old_policy != new_policy:\n",
    "                policy_change = True\n",
    "            node.current_policy = new_policy\n",
    "        else:\n",
    "            continue\n",
    "    return policy_change\n",
    "    \n",
    "    \n",
    "def markov_process_solver(name2nodes, arg_df, arg_min, arg_tol, arg_iter):\n",
    "    # Define initial arbitrary policy\n",
    "    for name in name2nodes:\n",
    "        if name2nodes[name].node_type!='Terminal':\n",
    "            name2nodes[name].current_policy = name2nodes[name].edges[0]\n",
    "    while True:\n",
    "        value_iteration(name2nodes=name2nodes, arg_df=arg_df, arg_tol=arg_tol, arg_iter=arg_iter)\n",
    "        if not greedy_policy_computation(name2nodes=name2nodes, arg_min=arg_min):\n",
    "            break"
   ]
  },
  {
   "cell_type": "code",
   "execution_count": 34,
   "id": "a2d1a50c-5588-45f4-9679-0ecfff368792",
   "metadata": {},
   "outputs": [],
   "source": [
    "def main():\n",
    "    \n",
    "    arg_df, arg_min, arg_tol, arg_iter = 1.0, True, 0.001, 100\n",
    "    \n",
    "    EXAMPLES_DIR = \"./\"\n",
    "    input_filename = \"publish.txt\"\n",
    "    parsed_lines = parse_input(input_filename)\n",
    "    name2nodes = create_nodes_from_input(parsed_lines)\n",
    "    # print(parsed_lines, name2nodes)\n",
    "    name2nodes = assign_rewards_probs_edges(lines=parsed_lines, name2nodes=name2nodes)\n",
    "    name2nodes = assign_nodetype(name2nodes=name2nodes)\n",
    "    #print(name2nodes)\n",
    "    \n",
    "    markov_process_solver(name2nodes=name2nodes, arg_df=arg_df, arg_min=arg_min, arg_tol=arg_tol, arg_iter=arg_iter)\n",
    "    \n",
    "    # print results\n",
    "    for name in name2nodes:\n",
    "        if name2nodes[name].node_type=='Decision' and len(name2nodes[name].edges) > 1:\n",
    "            name2nodes[name].print_policy()\n",
    "    print()\n",
    "    for name in name2nodes:\n",
    "        print(name,\"=\",name2nodes[name].value, end = \" \")\n",
    "    print()"
   ]
  },
  {
   "cell_type": "code",
   "execution_count": 35,
   "id": "4882eb0b-d0b0-4d7b-8dc7-c4aef81651f4",
   "metadata": {},
   "outputs": [
    {
     "name": "stdout",
     "output_type": "stream",
     "text": [
      "S -> Reject\n",
      "\n",
      "S = 0 Reject = 0 Publish = 0 Success = 0 Failure = 0 Consult = 0 Against = 0 For = 0 \n"
     ]
    }
   ],
   "source": [
    "main()"
   ]
  },
  {
   "cell_type": "code",
   "execution_count": null,
   "id": "5abd4134-cf6f-44f9-b4ce-78cc32c396fb",
   "metadata": {},
   "outputs": [],
   "source": []
  }
 ],
 "metadata": {
  "kernelspec": {
   "display_name": "dls-assignment",
   "language": "python",
   "name": "dls-assignment"
  },
  "language_info": {
   "codemirror_mode": {
    "name": "ipython",
    "version": 3
   },
   "file_extension": ".py",
   "mimetype": "text/x-python",
   "name": "python",
   "nbconvert_exporter": "python",
   "pygments_lexer": "ipython3",
   "version": "3.10.6"
  }
 },
 "nbformat": 4,
 "nbformat_minor": 5
}
