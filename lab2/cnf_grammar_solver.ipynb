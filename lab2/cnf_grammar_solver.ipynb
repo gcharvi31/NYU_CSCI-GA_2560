{
 "cells": [
  {
   "cell_type": "code",
   "execution_count": 26,
   "id": "79843f58-1bed-43a8-a1fe-9c29da1c0314",
   "metadata": {},
   "outputs": [],
   "source": [
    "from collections import defaultdict, Counter\n",
    "from copy import deepcopy\n",
    "import logging as log"
   ]
  },
  {
   "cell_type": "code",
   "execution_count": 27,
   "id": "bcb3d283-335e-4e70-84ec-11f77477d7eb",
   "metadata": {
    "tags": []
   },
   "outputs": [
    {
     "ename": "NameError",
     "evalue": "name 'p' is not defined",
     "output_type": "error",
     "traceback": [
      "\u001b[0;31m---------------------------------------------------------------------------\u001b[0m",
      "\u001b[0;31mNameError\u001b[0m                                 Traceback (most recent call last)",
      "Cell \u001b[0;32mIn [27], line 1\u001b[0m\n\u001b[0;32m----> 1\u001b[0m args \u001b[38;5;241m=\u001b[39m p\u001b[38;5;241m.\u001b[39mparse_args()\n\u001b[1;32m      2\u001b[0m \u001b[38;5;28;01mif\u001b[39;00m args\u001b[38;5;241m.\u001b[39mverbose:\n\u001b[1;32m      3\u001b[0m     log\u001b[38;5;241m.\u001b[39mbasicConfig(\u001b[38;5;28mformat\u001b[39m\u001b[38;5;241m=\u001b[39m\u001b[38;5;124m\"\u001b[39m\u001b[38;5;132;01m%(levelname)s\u001b[39;00m\u001b[38;5;124m: \u001b[39m\u001b[38;5;132;01m%(message)s\u001b[39;00m\u001b[38;5;124m\"\u001b[39m, level\u001b[38;5;241m=\u001b[39mlog\u001b[38;5;241m.\u001b[39mDEBUG)\n",
      "\u001b[0;31mNameError\u001b[0m: name 'p' is not defined"
     ]
    }
   ],
   "source": [
    "args = p.parse_args()\n",
    "if args.verbose:\n",
    "    log.basicConfig(format=\"%(levelname)s: %(message)s\", level=log.DEBUG)\n",
    "    log.info(\"Verbose output.\")\n",
    "else:\n",
    "    log.basicConfig(format=\"%(levelname)s: %(message)s\")\n",
    "\n",
    "log.info(\"This should be verbose.\")\n",
    "log.warning(\"This is a warning.\")\n",
    "log.error(\"This is an error.\")"
   ]
  },
  {
   "cell_type": "code",
   "execution_count": null,
   "id": "b0cf26c6-4267-4366-9806-544321ce676a",
   "metadata": {},
   "outputs": [],
   "source": []
  },
  {
   "cell_type": "code",
   "execution_count": null,
   "id": "281a55af-3e9f-41d3-9d55-5482e8901c52",
   "metadata": {},
   "outputs": [],
   "source": []
  },
  {
   "cell_type": "code",
   "execution_count": 84,
   "id": "bf9ebe38-2706-4259-b304-da186b0d2572",
   "metadata": {
    "tags": []
   },
   "outputs": [],
   "source": [
    "EXAMPLES_DIR = \"./\""
   ]
  },
  {
   "cell_type": "code",
   "execution_count": 85,
   "id": "2f61f048-1795-4a86-8f6b-347215b32fe9",
   "metadata": {
    "tags": []
   },
   "outputs": [],
   "source": [
    "ncolors2colors = {2:['R', 'G'], 3:['R', 'G', 'B'], 4:['R', 'G', 'B', 'Y']}\n",
    "clr2color = {'R':'Red', 'G':'Green', 'Y':'Yellow', 'B':'Blue'}"
   ]
  },
  {
   "cell_type": "code",
   "execution_count": 86,
   "id": "e276171f-2617-4682-813d-d155ca35b0ae",
   "metadata": {
    "tags": []
   },
   "outputs": [],
   "source": [
    "def read_input(filename):\n",
    "    with open(filename, 'r') as f:\n",
    "        lines = f.readlines()\n",
    "    return lines"
   ]
  },
  {
   "cell_type": "code",
   "execution_count": 87,
   "id": "f77255a0-8706-43e8-a99d-eb0b5c357a68",
   "metadata": {
    "tags": []
   },
   "outputs": [],
   "source": [
    "class DAG:\n",
    "    def __init__(self, adj_list=None, nodes=None):\n",
    "        self.adj_list = adj_list if adj_list else defaultdict(list) # {'a': ['a1', 'a2', 'a3'], ...}\n",
    "        self.nodes = nodes\n",
    "    \n",
    "    def create_node_graph(self):\n",
    "        for node in self.nodes:\n",
    "            if node not in self.adj_list:\n",
    "                self.adj_list[node] = []\n",
    "        for node in self.adj_list:\n",
    "            for child in self.adj_list[node]:\n",
    "                self._add_edge(src=node, dest=child)\n",
    "        return dict(sorted(dict(sorted(self.adj_list.items(), key=lambda x:x[1], reverse=False)).items(), key=lambda x: x[0], reverse=False))\n",
    "                \n",
    "                \n",
    "    def _add_edge(self, src, dest):\n",
    "        if dest == '':\n",
    "            self.adj_list[src] = []\n",
    "            return\n",
    "        if dest not in self.adj_list[src]:\n",
    "            self.adj_list[src].append(dest)\n",
    "        if src not in self.adj_list[dest]:\n",
    "            self.adj_list[dest].append(src)"
   ]
  },
  {
   "cell_type": "code",
   "execution_count": 88,
   "id": "d2d4aa3a-cbe1-427f-aa00-9b2dffcfd52d",
   "metadata": {
    "tags": []
   },
   "outputs": [],
   "source": [
    "def trim_label_name(name):\n",
    "    return name.strip()"
   ]
  },
  {
   "cell_type": "code",
   "execution_count": 95,
   "id": "8ec274eb-b81b-42ea-ab27-0ee382d98ca8",
   "metadata": {
    "tags": []
   },
   "outputs": [],
   "source": [
    "def is_label_name_valid(name):\n",
    "    if len(name) > 32: return False\n",
    "    if len([i for i in name if i in [':', '[', ']', ',']])>0:\n",
    "        return False\n",
    "    return True"
   ]
  },
  {
   "cell_type": "code",
   "execution_count": 102,
   "id": "3ace6d39-feea-41a7-957e-aed34e400aed",
   "metadata": {
    "tags": []
   },
   "outputs": [
    {
     "data": {
      "text/plain": [
       "False"
      ]
     },
     "execution_count": 102,
     "metadata": {},
     "output_type": "execute_result"
    }
   ],
   "source": [
    "is_label_name_valid(name='aaaaaaaaa,[a')"
   ]
  },
  {
   "cell_type": "code",
   "execution_count": 97,
   "id": "54fa4219-0519-448e-81da-40edaa1288af",
   "metadata": {
    "tags": []
   },
   "outputs": [],
   "source": [
    "def parse_input(filename):\n",
    "    lines = read_input(filename=filename)\n",
    "    lines = [l.strip('\\n') for l in lines if l != '\\n']  #remove extra spaces from input\n",
    "        \n",
    "    adj_list = dict()\n",
    "    labels = set()\n",
    "    \n",
    "    for line in lines:\n",
    "        if \":\" in line:\n",
    "            src, children = line.split(\": \")[0], [c.strip() for c in line.split(\": \")[-1].lstrip('[').rstrip(']').split(\",\")]\n",
    "            src = trim_label_name(src)\n",
    "            children = [trim_label_name(c) for c in children]\n",
    "            if is_label_name_valid(src) and ([is_label_name_valid(c) for c in children] == [True for c in children]):\n",
    "                adj_list[src] = children\n",
    "                labels.add(src)\n",
    "                labels.update(children)\n",
    "            else:\n",
    "                print(\"Invalid label names, try again\")\n",
    "                exit()\n",
    "            \n",
    "    # remove empty items from set\n",
    "    labels.discard('')\n",
    "    \n",
    "    return adj_list, labels"
   ]
  },
  {
   "cell_type": "code",
   "execution_count": 90,
   "id": "50886759-8f0f-4d13-9194-05becf4b92a2",
   "metadata": {
    "tags": []
   },
   "outputs": [],
   "source": [
    "def graph_constraints(adj_list, ncolor):\n",
    "    colors = ncolors2colors[ncolor]\n",
    "    cnf_clauses = []\n",
    "    for node in adj_list:\n",
    "        # Constraint 1: At least one color \n",
    "        constraint1 = []\n",
    "        for color in colors:\n",
    "            atom = f'{node}_{color}'\n",
    "            constraint1.append(atom)\n",
    "        \n",
    "        # Constrain 2: No adjacent same colors rhs for every edge, distinct clause for each color\n",
    "        constraint2 = []\n",
    "        for cons in constraint1:\n",
    "            for child in sorted(adj_list[node]):\n",
    "                constraint2.append((f'!{cons} !{child}_{cons[-1]}'))\n",
    "        \n",
    "        # Add constraints of a node to cnf clauses for entire graph\n",
    "        cnf_clauses.extend([\" \".join(constraint1)])\n",
    "        cnf_clauses.extend(constraint2)\n",
    "    \n",
    "    return cnf_clauses"
   ]
  },
  {
   "cell_type": "code",
   "execution_count": 91,
   "id": "f92d2d3f-6289-487e-a03f-65af6cc5ff5a",
   "metadata": {
    "tags": []
   },
   "outputs": [],
   "source": [
    "def check_missing_clauses(computed_clauses, true_clauses):\n",
    "    comp_ = set(tuple(row) for row in sorted(list([clause.split(', ') for clause in computed_clauses])))\n",
    "    true_ = set(tuple(row) for row in sorted(list([clause.split(', ') for clause in true_clauses])))\n",
    "    \n",
    "    print(f\"Clauses in true set: {len(true_)}, Clauses. in computed set: {len(comp_)}\")\n",
    "    print(f\"Missing clauses: {true_.difference(comp_)}\")\n",
    "    print(f\"Extra clauses computed: {comp_.difference(true_)}\")"
   ]
  },
  {
   "cell_type": "code",
   "execution_count": 92,
   "id": "488655c5-3ed9-4e31-95f3-269a49ca459d",
   "metadata": {
    "tags": []
   },
   "outputs": [],
   "source": [
    "def get_true_clauses(filename):\n",
    "    lines = read_input(filename=filename)\n",
    "    true_clauses = [l.strip('\\n') for l in lines if l != '\\n']  #remove extra spaces from input\n",
    "    return true_clauses"
   ]
  },
  {
   "cell_type": "code",
   "execution_count": null,
   "id": "d7bf46d3-8dd7-4c6f-b89b-dc9988892f6f",
   "metadata": {
    "tags": []
   },
   "outputs": [],
   "source": []
  },
  {
   "cell_type": "code",
   "execution_count": 94,
   "id": "bfda9f8e-b4d9-4b2e-b55e-dbd7c63ece36",
   "metadata": {
    "tags": []
   },
   "outputs": [
    {
     "name": "stdout",
     "output_type": "stream",
     "text": [
      "Clauses in true set: 921, Clauses. in computed set: 921\n",
      "Missing clauses: set()\n",
      "Extra clauses computed: set()\n"
     ]
    }
   ],
   "source": [
    "FILE = \"us48.txt\"\n",
    "ncolor = 4\n",
    "adj_list_1, nodes = parse_input(filename=f\"{EXAMPLES_DIR}/{FILE}\")\n",
    "al = DAG(adj_list=adj_list_1, nodes=nodes).create_node_graph()\n",
    "computed_clauses = graph_constraints(adj_list=al, ncolor=ncolor)\n",
    "true_clauses = get_true_clauses(filename=f\"{EXAMPLES_DIR}/{FILE}.{ncolor}.dp\")\n",
    "check_missing_clauses(true_clauses=true_clauses, computed_clauses=computed_clauses)"
   ]
  },
  {
   "cell_type": "code",
   "execution_count": 12,
   "id": "d4baabc1-fe73-403b-90a5-3a477dfcbacb",
   "metadata": {},
   "outputs": [
    {
     "data": {
      "text/plain": [
       "['1_R 1_G',\n",
       " '!1_R !2_R',\n",
       " '!1_R !4_R',\n",
       " '!1_G !2_G',\n",
       " '!1_G !4_G',\n",
       " '2_R 2_G',\n",
       " '!2_R !1_R',\n",
       " '!2_R !3_R',\n",
       " '!2_G !1_G',\n",
       " '!2_G !3_G',\n",
       " '3_R 3_G',\n",
       " '!3_R !2_R',\n",
       " '!3_R !4_R',\n",
       " '!3_G !2_G',\n",
       " '!3_G !4_G',\n",
       " '4_R 4_G',\n",
       " '!4_R !1_R',\n",
       " '!4_R !3_R',\n",
       " '!4_G !1_G',\n",
       " '!4_G !3_G']"
      ]
     },
     "execution_count": 12,
     "metadata": {},
     "output_type": "execute_result"
    }
   ],
   "source": [
    "computed_clauses"
   ]
  },
  {
   "cell_type": "code",
   "execution_count": null,
   "id": "9f659d1f-df27-4932-b3e5-99475cd8fa46",
   "metadata": {},
   "outputs": [],
   "source": []
  },
  {
   "cell_type": "code",
   "execution_count": null,
   "id": "fde06d82-a166-4137-8c89-291587a97c94",
   "metadata": {
    "tags": []
   },
   "outputs": [],
   "source": [
    "\n",
    "    "
   ]
  },
  {
   "cell_type": "code",
   "execution_count": 13,
   "id": "a04b5f2a-ceee-40cc-b2e5-8ded327b0f42",
   "metadata": {},
   "outputs": [],
   "source": [
    "def get_atoms_and_literals_from_cnf(cnf):\n",
    "    \"\"\"\n",
    "    Atoms: literals without negation\n",
    "    Literals: Atoms with/without negation\n",
    "    \"\"\"\n",
    "    l = []\n",
    "    for i in cnf:\n",
    "        l.extend(i.split(' '))\n",
    "    atoms = sorted(list(set([i.strip('!') for i in l])))\n",
    "    literals = list(set([i for i in l]))\n",
    "    literals_count = dict(Counter(l))\n",
    "    return atoms, literals, literals_count"
   ]
  },
  {
   "cell_type": "code",
   "execution_count": 14,
   "id": "ada5ed7b-da31-4cef-8aff-73b8f3c4db17",
   "metadata": {
    "tags": []
   },
   "outputs": [],
   "source": [
    "def propagate(atom, cnf, values):\n",
    "    \"\"\"\n",
    "    Propagate the effect of assigning atom A to be value V.\n",
    "    Delete every clause where A appears with sign V\n",
    "    Delete every literal where A appears with sign not V.\n",
    "    \"\"\"\n",
    "    cnf_ = []\n",
    "    for clause in cnf:\n",
    "        clause_literals = clause.split(' ')\n",
    "        # delete C from S\n",
    "        if (atom in clause_literals and values[atom]==True) or (f'!{atom}' in clause_literals and values[atom]==False):\n",
    "            pass\n",
    "        # delete A from C\n",
    "        elif atom in clause_literals and values[atom]==False:\n",
    "            clause_ = ' '.join([i for i in clause.split(' ') if i!=atom])\n",
    "            cnf_.append(clause_)\n",
    "        # delete ~A from C\n",
    "        elif f'!{atom}' in clause_literals and values[atom]==True:\n",
    "            clause_ = ' '.join([i for i in clause.split(' ') if i!=f'!{atom}'])\n",
    "            cnf_.append(clause_)\n",
    "        else:\n",
    "            cnf_.append(clause)\n",
    "    return cnf_\n",
    "\n",
    "\n",
    "def obvious_assign(literal, values):\n",
    "    \"\"\"\n",
    "    Given a literal L with atom A, make V[A] the sign indicated by L.\n",
    "    \"\"\"\n",
    "    if '!' in literal:\n",
    "        atom = get_atom(literal)\n",
    "        values[atom] = False\n",
    "    else:\n",
    "        atom = literal\n",
    "        values[atom] = True\n",
    "    # print(f\"assigned atom {atom} as {values[atom]} through obvious assign\")\n",
    "    return values\n",
    "\n",
    "\n",
    "def is_literal_in_cnf(literal, cnf):\n",
    "    \"\"\"\n",
    "    Gives clause indices where a particular literal is present in cnf clause list\n",
    "    \"\"\"\n",
    "    present = []\n",
    "    for idx, clause in enumerate(cnf):\n",
    "        if literal in clause:\n",
    "            present.append(idx)\n",
    "    return present\n",
    "\n",
    "\n",
    "def get_atom(literal):\n",
    "    \"\"\"\n",
    "    Returns atom of the literal\n",
    "    \"\"\"\n",
    "    if '!' in literal:\n",
    "        return literal[1:]\n",
    "    else:\n",
    "        return literal"
   ]
  },
  {
   "cell_type": "code",
   "execution_count": 15,
   "id": "6bfab368-dddc-4755-80f5-faa9ae3f8051",
   "metadata": {
    "tags": []
   },
   "outputs": [],
   "source": [
    "def get_next_pureliteral(cnf):\n",
    "    # print(f\"Retrieving next pure literal from cnf ...\")\n",
    "    _, literals, literals_count = get_atoms_and_literals_from_cnf(cnf)\n",
    "    for literal in literals:\n",
    "        # check if negation of literal in remaining clauses\n",
    "        if literal[0]=='!':\n",
    "            literal_negation = literal[1:]\n",
    "        else:\n",
    "            literal_negation = '!' + literal\n",
    "        if len(is_literal_in_cnf(literal=literal_negation, cnf=cnf)) == 0:\n",
    "            # print(f\"Pure literal {literal} found. Negation of this literal is not present in remaining clauses\")\n",
    "            return literal\n",
    "    # print(f\"No pure literal exit, continuing ...\")\n",
    "    return None\n",
    "\n",
    "\n",
    "def get_next_clause_with_single_occurrence_literal(cnf):\n",
    "    # print(f\"Retrieving single literal clause from cnf ...\")\n",
    "    for clause in cnf:\n",
    "        literals = clause.split(' ')\n",
    "        if len(literals) == 1:\n",
    "            # print(f\"Clause with single literal: {literals[0]} found\")\n",
    "            return literals[0]\n",
    "    # print(f\"No clause with single literal exist, continuing ...\")\n",
    "    return None"
   ]
  },
  {
   "cell_type": "code",
   "execution_count": 16,
   "id": "168579a3-5904-4a75-a630-90e9a4a35e7b",
   "metadata": {},
   "outputs": [],
   "source": [
    "def delete_pureliteral_from_cnf(literal, cnf):\n",
    "    clauses_with_pureliteral = []\n",
    "    for clause in cnf:\n",
    "        if literal in clause:\n",
    "            clauses_with_pureliteral.append(clause)\n",
    "    cnf_ = [clause for clause in cnf if clause not in clauses_with_pureliteral]\n",
    "    return cnf_"
   ]
  },
  {
   "cell_type": "code",
   "execution_count": 17,
   "id": "859ae0e6-83a6-46ef-b392-3d4fa4883a8b",
   "metadata": {
    "tags": []
   },
   "outputs": [],
   "source": [
    "def check_empty_clause(cnf):\n",
    "    for clause in cnf:\n",
    "        if len(clause)==0:\n",
    "            return None\n",
    "    return ''"
   ]
  },
  {
   "cell_type": "code",
   "execution_count": 40,
   "id": "7db18a7e-94aa-4190-8e7f-aaf5f5428a4c",
   "metadata": {
    "tags": []
   },
   "outputs": [],
   "source": [
    "def dpl(atoms, cnf, values):\n",
    "    while(True):\n",
    "        if len(cnf) == 0:\n",
    "            print(f\"Assigning remaining unbounded atoms as False: {values}\")\n",
    "            for a in atoms:\n",
    "                if values[a] == 'unbound':\n",
    "                    print(f\"Unbounded {a}, assigning False\")\n",
    "                    values[a] = False\n",
    "            return values\n",
    "        \n",
    "        elif check_empty_clause(cnf) is None:\n",
    "            return None\n",
    "        \n",
    "        elif get_next_pureliteral(cnf) is not None:\n",
    "            pureliteral = get_next_pureliteral(cnf)\n",
    "            values = obvious_assign(literal=pureliteral, values=values)\n",
    "            cnf = delete_pureliteral_from_cnf(literal=pureliteral, cnf=cnf)\n",
    "            print(f\"easy case: pure literal {pureliteral}={values[get_atom(pureliteral)]}\")\n",
    "        \n",
    "        elif get_next_clause_with_single_occurrence_literal(cnf) is not None:\n",
    "            literal = get_next_clause_with_single_occurrence_literal(cnf)\n",
    "            values = obvious_assign(literal=literal, values=values)\n",
    "            cnf = propagate(get_atom(literal), cnf, values)\n",
    "            print(f\"easy case: unit literal {literal}\")\n",
    "            \n",
    "        else:\n",
    "            break\n",
    "    \n",
    "\n",
    "    unbound_atom = [k for k in values.keys() if values[k]=='unbound'][0]\n",
    "    print(f\"hard case: guess {unbound_atom}=True\")\n",
    "    values[unbound_atom] = True\n",
    "    cnf1 = deepcopy(cnf)\n",
    "    cnf1 = propagate(unbound_atom, cnf1, values)\n",
    "    values_new = dpl(atoms, cnf1, values)\n",
    "    if (values_new != None):\n",
    "        return values_new\n",
    "    \n",
    "    print(f\"contradiction: backtrack guess {unbound_atom}=False\")\n",
    "    values[unbound_atom] = False\n",
    "    cnf1 = propagate(unbound_atom, cnf, values)\n",
    "    return dpl(atoms, cnf1, values)\n",
    "            "
   ]
  },
  {
   "cell_type": "code",
   "execution_count": 41,
   "id": "556a53ed-8dfa-428a-aa66-7f5804250616",
   "metadata": {
    "tags": []
   },
   "outputs": [],
   "source": [
    "def dp(atoms, cnf):\n",
    "    values = {k:'unbound' for k in atoms}\n",
    "    return dpl(atoms, cnf, values)"
   ]
  },
  {
   "cell_type": "code",
   "execution_count": 42,
   "id": "ac01799c-9989-4bbe-9a4c-2cf742037aae",
   "metadata": {
    "tags": []
   },
   "outputs": [
    {
     "name": "stdout",
     "output_type": "stream",
     "text": [
      "Atoms:  ['1_G', '1_R', '2_G', '2_R', '3_G', '3_R', '4_G', '4_R']\n",
      "Literals:  ['!1_G', '2_G', '!4_G', '!4_R', '!1_R', '2_R', '1_G', '!3_G', '!2_R', '!2_G', '3_R', '3_G', '1_R', '4_R', '4_G', '!3_R']\n",
      "CNF:  ['1_R 1_G', '!1_R !2_R', '!1_R !4_R', '!1_G !2_G', '!1_G !4_G', '2_R 2_G', '!2_R !1_R', '!2_R !3_R', '!2_G !1_G', '!2_G !3_G', '3_R 3_G', '!3_R !2_R', '!3_R !4_R', '!3_G !2_G', '!3_G !4_G', '4_R 4_G', '!4_R !1_R', '!4_R !3_R', '!4_G !1_G', '!4_G !3_G']\n"
     ]
    }
   ],
   "source": [
    "# atoms = ['C', 'A', 'B']\n",
    "# cnf = ['A B C', 'A !B C', '!A B !C', '!C']\n",
    "cnf = computed_clauses\n",
    "atoms, literals, literals_count = get_atoms_and_literals_from_cnf(cnf)\n",
    "print(f\"Atoms: \", atoms)\n",
    "print(f\"Literals: \", literals)\n",
    "print(f\"CNF: \", cnf)"
   ]
  },
  {
   "cell_type": "code",
   "execution_count": null,
   "id": "a997da0c-4965-4d62-abab-621c376247e6",
   "metadata": {
    "tags": []
   },
   "outputs": [],
   "source": []
  },
  {
   "cell_type": "code",
   "execution_count": 43,
   "id": "b362849c-64b4-4d7f-8359-14aeb23eaa94",
   "metadata": {
    "tags": []
   },
   "outputs": [
    {
     "name": "stdout",
     "output_type": "stream",
     "text": [
      "hard case: guess 1_G=True\n",
      "easy case: unit literal !2_G\n",
      "{'1_G': True, '1_R': 'unbound', '2_G': False, '2_R': 'unbound', '3_G': 'unbound', '3_R': 'unbound', '4_G': 'unbound', '4_R': 'unbound'}\n",
      "easy case: unit literal !4_G\n",
      "{'1_G': True, '1_R': 'unbound', '2_G': False, '2_R': 'unbound', '3_G': 'unbound', '3_R': 'unbound', '4_G': False, '4_R': 'unbound'}\n",
      "easy case: pure literal 3_G=True\n",
      "{'1_G': True, '1_R': 'unbound', '2_G': False, '2_R': 'unbound', '3_G': True, '3_R': 'unbound', '4_G': False, '4_R': 'unbound'}\n",
      "easy case: unit literal 2_R\n",
      "{'1_G': True, '1_R': 'unbound', '2_G': False, '2_R': True, '3_G': True, '3_R': 'unbound', '4_G': False, '4_R': 'unbound'}\n",
      "easy case: unit literal !1_R\n",
      "{'1_G': True, '1_R': False, '2_G': False, '2_R': True, '3_G': True, '3_R': 'unbound', '4_G': False, '4_R': 'unbound'}\n",
      "easy case: unit literal !3_R\n",
      "{'1_G': True, '1_R': False, '2_G': False, '2_R': True, '3_G': True, '3_R': False, '4_G': False, '4_R': 'unbound'}\n",
      "easy case: pure literal 4_R=True\n",
      "{'1_G': True, '1_R': False, '2_G': False, '2_R': True, '3_G': True, '3_R': False, '4_G': False, '4_R': True}\n",
      "Assigning remaining unbounded atoms as False: {'1_G': True, '1_R': False, '2_G': False, '2_R': True, '3_G': True, '3_R': False, '4_G': False, '4_R': True}\n"
     ]
    },
    {
     "data": {
      "text/plain": [
       "{'1_G': True,\n",
       " '1_R': False,\n",
       " '2_G': False,\n",
       " '2_R': True,\n",
       " '3_G': True,\n",
       " '3_R': False,\n",
       " '4_G': False,\n",
       " '4_R': True}"
      ]
     },
     "execution_count": 43,
     "metadata": {},
     "output_type": "execute_result"
    }
   ],
   "source": [
    "dp(atoms, cnf)\n"
   ]
  },
  {
   "cell_type": "code",
   "execution_count": 39,
   "id": "b55fd310-d783-440d-be73-2390f0aa55d3",
   "metadata": {
    "tags": []
   },
   "outputs": [
    {
     "name": "stdout",
     "output_type": "stream",
     "text": [
      "1 Green\n",
      "2 Red\n",
      "3 Green\n",
      "4 Red\n"
     ]
    },
    {
     "data": {
      "text/plain": [
       "{'1': 'Green', '2': 'Red', '3': 'Green', '4': 'Red'}"
      ]
     },
     "execution_count": 39,
     "metadata": {},
     "output_type": "execute_result"
    }
   ],
   "source": [
    "assignments = {\n",
    "    '1_G': True,\n",
    "    '1_R': False,\n",
    "    '2_G': False,\n",
    "    '2_R': True,\n",
    "    '3_G': True,\n",
    "    '3_R': False,\n",
    "    '4_G': False,\n",
    "    '4_R': True\n",
    "}\n",
    "convert_back(assignments)"
   ]
  },
  {
   "cell_type": "code",
   "execution_count": 38,
   "id": "8f4746f6-a61c-4c9f-84c8-e8388cd1d5b3",
   "metadata": {},
   "outputs": [],
   "source": [
    "def convert_back(assignments):\n",
    "    true_assignments = [i for i in assignments if assignments[i] is True]\n",
    "    solution = {}\n",
    "    for assignment in true_assignments:\n",
    "        label, value = assignment.split('_')[0], clr2color[assignment.split('_')[-1]]\n",
    "        solution[label]=value\n",
    "    return solution"
   ]
  },
  {
   "cell_type": "code",
   "execution_count": null,
   "id": "826f45a0-6e3a-415c-9e8c-761df1bdbca3",
   "metadata": {},
   "outputs": [],
   "source": []
  },
  {
   "cell_type": "code",
   "execution_count": 44,
   "id": "56b9dead-bbf2-4edc-b392-1f6c2fec2d53",
   "metadata": {
    "tags": []
   },
   "outputs": [],
   "source": [
    "def write2file(l, filename):\n",
    "    # open file in write mode\n",
    "    with open(filename, 'w') as fp:\n",
    "        for item in l:\n",
    "            # write each item on a new line\n",
    "            fp.write(\"%s\\n\" % item)"
   ]
  },
  {
   "cell_type": "code",
   "execution_count": 45,
   "id": "55b781f6-7e3e-43e8-948a-3ea533cfd3b5",
   "metadata": {
    "tags": []
   },
   "outputs": [],
   "source": [
    "# list of names\n",
    "names = ['Jessa', 'Eric', 'Bob']\n",
    "\n",
    "write2file(names, 'names.txt')\n"
   ]
  },
  {
   "cell_type": "code",
   "execution_count": 50,
   "id": "f86aaf86-a085-4828-a805-3aca3d487ad3",
   "metadata": {
    "tags": []
   },
   "outputs": [],
   "source": [
    "constraint1 = ['a', 'b', 'c']\n",
    "cons_set = []\n",
    "for cons in constraint1:\n",
    "    cons_set.append((cons, [c for c in constraint1 if c != cons]))"
   ]
  },
  {
   "cell_type": "code",
   "execution_count": 51,
   "id": "0cc0885f-2b13-48df-be38-e37eacf12659",
   "metadata": {
    "tags": []
   },
   "outputs": [
    {
     "data": {
      "text/plain": [
       "[('a', ['b', 'c']), ('b', ['a', 'c']), ('c', ['a', 'b'])]"
      ]
     },
     "execution_count": 51,
     "metadata": {},
     "output_type": "execute_result"
    }
   ],
   "source": [
    "cons_set"
   ]
  },
  {
   "cell_type": "code",
   "execution_count": null,
   "id": "1f22b647-2e76-421a-83d4-7785493086ce",
   "metadata": {},
   "outputs": [],
   "source": []
  },
  {
   "cell_type": "code",
   "execution_count": null,
   "id": "e061e35d-ac33-4abb-a9bc-88dcaa32befb",
   "metadata": {},
   "outputs": [],
   "source": []
  },
  {
   "cell_type": "code",
   "execution_count": null,
   "id": "f1e3bab7-05c0-47d9-942e-af6158dd0303",
   "metadata": {},
   "outputs": [],
   "source": []
  },
  {
   "cell_type": "code",
   "execution_count": null,
   "id": "e051eca3-3ba1-47bc-8230-111efa04c713",
   "metadata": {},
   "outputs": [],
   "source": []
  },
  {
   "cell_type": "code",
   "execution_count": null,
   "id": "272fa495-f7e8-41ca-ab8c-9b5598a5526f",
   "metadata": {},
   "outputs": [],
   "source": []
  },
  {
   "cell_type": "code",
   "execution_count": 71,
   "id": "798427e6-ae1e-41ed-8724-e73a5214e7df",
   "metadata": {
    "tags": []
   },
   "outputs": [],
   "source": [
    "def get_next_pureliteral(cnf):\n",
    "    print(f\"Retrieving next pure literal from cnf ...\")\n",
    "    # Get counts of literals in the cnf\n",
    "    l = []\n",
    "    for i in cnf:\n",
    "        l.extend(i.split(' '))\n",
    "    literals_count = dict(Counter(l))\n",
    "\n",
    "    for clause in cnf:\n",
    "        literals = clause.split(' ')\n",
    "        for literal in literals:\n",
    "            # check if negation of literal in remaining clauses\n",
    "            if literal[0]=='!':\n",
    "                literal_negation = literal[1:]\n",
    "            else:\n",
    "                literal_negation = '!' + literal\n",
    "            if literal_negation not in literals_count.keys():\n",
    "            # if  literals_count[litera]==1 and len(is_literal_in_cnf(literal=literal_negation, cnf=cnf)) == 0:\n",
    "                print(f\"Pure literal {literal} found. Negation of this literal is not present in remaining clauses\")\n",
    "                return literal\n",
    "    print(f\"No pure literal exit, continuing ...\")\n",
    "    return None"
   ]
  },
  {
   "cell_type": "code",
   "execution_count": 78,
   "id": "f8050b63-ce7c-4b9a-8b6d-db6d7c697da9",
   "metadata": {
    "tags": []
   },
   "outputs": [],
   "source": [
    "cnf_ = ['!V_B', 'Q_R Q_G', '!Q_R !SA_R', '!Q_G !SA_G', 'SA_R SA_G', '!SA_R !Q_R', '!SA_R !V_R', '!SA_R !WA_R', '!SA_G !Q_G', '!SA_G !V_G', '!SA_G !WA_G', 'V_R V_G V_B', '!V_R !SA_R', '!V_G !SA_G', '!V_B', 'WA_R WA_G WA_B', '!WA_R !SA_R', '!WA_G !SA_G']"
   ]
  },
  {
   "cell_type": "code",
   "execution_count": 79,
   "id": "b14f1f6d-acbf-4e63-93fa-ab7cd717cabd",
   "metadata": {
    "tags": []
   },
   "outputs": [
    {
     "name": "stdout",
     "output_type": "stream",
     "text": [
      "Retrieving next pure literal from cnf ...\n",
      "Pure literal WA_B found. Negation of this literal is not present in remaining clauses\n"
     ]
    },
    {
     "data": {
      "text/plain": [
       "'WA_B'"
      ]
     },
     "execution_count": 79,
     "metadata": {},
     "output_type": "execute_result"
    }
   ],
   "source": [
    "get_next_pureliteral(cnf_)"
   ]
  },
  {
   "cell_type": "code",
   "execution_count": null,
   "id": "d6691ab1-ea8f-4c1d-9474-1e10661962e6",
   "metadata": {},
   "outputs": [],
   "source": [
    "is_literal_in_cnf(literal=literal_negation, cnf=cnf)"
   ]
  },
  {
   "cell_type": "code",
   "execution_count": 76,
   "id": "7f1fa068-5051-459a-a235-73fa7c8ae0cc",
   "metadata": {
    "tags": []
   },
   "outputs": [],
   "source": [
    "def get_true_assignments(filename):\n",
    "    lines = read_input(filename=filename)\n",
    "    true_assignments = [l.strip('\\n') for l in lines if l != '\\n']  #remove extra spaces from input\n",
    "    return true_assignments"
   ]
  },
  {
   "cell_type": "code",
   "execution_count": 77,
   "id": "8935d057-7b96-4eba-ba8d-ebd0e309e672",
   "metadata": {
    "tags": []
   },
   "outputs": [
    {
     "data": {
      "text/plain": [
       "['NSW = Blue',\n",
       " 'NT = Blue',\n",
       " 'Q = Green',\n",
       " 'SA = Red',\n",
       " 'T = Green',\n",
       " 'V = Green',\n",
       " 'WA = Green']"
      ]
     },
     "execution_count": 77,
     "metadata": {},
     "output_type": "execute_result"
    }
   ],
   "source": [
    "get_true_assignments(\"oz.3.out\")"
   ]
  },
  {
   "cell_type": "code",
   "execution_count": null,
   "id": "1ceef17f-4960-4e29-adc4-3e91ad63d874",
   "metadata": {},
   "outputs": [],
   "source": [
    "def check_wrong_assignments(computed_assignments, true_assignments):\n",
    "    print([i for i in true_assignments if i not in computed_assignments])"
   ]
  },
  {
   "cell_type": "code",
   "execution_count": null,
   "id": "09d8c94e-0654-4f89-b868-47a77f4d9294",
   "metadata": {},
   "outputs": [],
   "source": []
  },
  {
   "cell_type": "code",
   "execution_count": null,
   "id": "5ed157eb-b29d-43f2-b542-761c996f04b3",
   "metadata": {},
   "outputs": [],
   "source": []
  },
  {
   "cell_type": "code",
   "execution_count": null,
   "id": "f61f1ae4-62c1-491f-877c-585b48c30d08",
   "metadata": {},
   "outputs": [],
   "source": []
  },
  {
   "cell_type": "code",
   "execution_count": 82,
   "id": "84413ad2-a759-4f32-81c3-5dc855686eef",
   "metadata": {
    "tags": []
   },
   "outputs": [],
   "source": [
    "cnf = ['NSW_R NSW_G NSW_B', 'NT_R NT_G NT_B', 'Q_R Q_G Q_B', 'SA_R SA_G SA_B', 'T_R T_G T_B', 'V_R V_G V_B', 'WA_R WA_G WA_B', '!NSW_R !Q_R', '!NSW_R !SA_R', '!NSW_R !V_R', '!NSW_G !Q_G', '!NSW_G !SA_G', '!NSW_G !V_G', '!NSW_B !Q_B', '!NSW_B !SA_B', '!NSW_B !V_B', '!NT_R !Q_R', '!NT_R !SA_R', '!NT_R !WA_R', '!NT_G !Q_G', '!NT_G !SA_G', '!NT_G !WA_G', '!NT_B !Q_B', '!NT_B !SA_B', '!NT_B !WA_B', '!Q_R !NSW_R', '!Q_R !NT_R', '!Q_R !SA_R', '!Q_G !NSW_G', '!Q_G !NT_G', '!Q_G !SA_G', '!Q_B !NSW_B', '!Q_B !NT_B', '!Q_B !SA_B', '!SA_R !NSW_R', '!SA_R !NT_R', '!SA_R !Q_R', '!SA_R !V_R', '!SA_R !WA_R', '!SA_G !NSW_G', '!SA_G !NT_G', '!SA_G !Q_G', '!SA_G !V_G', '!SA_G !WA_G', '!SA_B !NSW_B', '!SA_B !NT_B', '!SA_B !Q_B', '!SA_B !V_B', '!SA_B !WA_B', '!V_R !NSW_R', '!V_R !SA_R', '!V_G !NSW_G', '!V_G !SA_G', '!V_B !NSW_B', '!V_B !SA_B', '!WA_R !NT_R', '!WA_R !SA_R', '!WA_G !NT_G', '!WA_G !SA_G', '!WA_B !NT_B', '!WA_B !SA_B']\n"
   ]
  },
  {
   "cell_type": "code",
   "execution_count": 83,
   "id": "22cba8c1-7d71-4be5-bfec-f9d990c5ae3f",
   "metadata": {
    "tags": []
   },
   "outputs": [
    {
     "name": "stdout",
     "output_type": "stream",
     "text": [
      "NSW_R NSW_G NSW_B\n",
      "NT_R NT_G NT_B\n",
      "Q_R Q_G Q_B\n",
      "SA_R SA_G SA_B\n",
      "T_R T_G T_B\n",
      "V_R V_G V_B\n",
      "WA_R WA_G WA_B\n",
      "!NSW_R !Q_R\n",
      "!NSW_R !SA_R\n",
      "!NSW_R !V_R\n",
      "!NSW_G !Q_G\n",
      "!NSW_G !SA_G\n",
      "!NSW_G !V_G\n",
      "!NSW_B !Q_B\n",
      "!NSW_B !SA_B\n",
      "!NSW_B !V_B\n",
      "!NT_R !Q_R\n",
      "!NT_R !SA_R\n",
      "!NT_R !WA_R\n",
      "!NT_G !Q_G\n",
      "!NT_G !SA_G\n",
      "!NT_G !WA_G\n",
      "!NT_B !Q_B\n",
      "!NT_B !SA_B\n",
      "!NT_B !WA_B\n",
      "!Q_R !NSW_R\n",
      "!Q_R !NT_R\n",
      "!Q_R !SA_R\n",
      "!Q_G !NSW_G\n",
      "!Q_G !NT_G\n",
      "!Q_G !SA_G\n",
      "!Q_B !NSW_B\n",
      "!Q_B !NT_B\n",
      "!Q_B !SA_B\n",
      "!SA_R !NSW_R\n",
      "!SA_R !NT_R\n",
      "!SA_R !Q_R\n",
      "!SA_R !V_R\n",
      "!SA_R !WA_R\n",
      "!SA_G !NSW_G\n",
      "!SA_G !NT_G\n",
      "!SA_G !Q_G\n",
      "!SA_G !V_G\n",
      "!SA_G !WA_G\n",
      "!SA_B !NSW_B\n",
      "!SA_B !NT_B\n",
      "!SA_B !Q_B\n",
      "!SA_B !V_B\n",
      "!SA_B !WA_B\n",
      "!V_R !NSW_R\n",
      "!V_R !SA_R\n",
      "!V_G !NSW_G\n",
      "!V_G !SA_G\n",
      "!V_B !NSW_B\n",
      "!V_B !SA_B\n",
      "!WA_R !NT_R\n",
      "!WA_R !SA_R\n",
      "!WA_G !NT_G\n",
      "!WA_G !SA_G\n",
      "!WA_B !NT_B\n",
      "!WA_B !SA_B\n"
     ]
    }
   ],
   "source": [
    "for i in cnf:\n",
    "    print(i)"
   ]
  },
  {
   "cell_type": "code",
   "execution_count": null,
   "id": "2ee93e7b-93af-46b3-8e4f-662fd73ebc40",
   "metadata": {},
   "outputs": [],
   "source": []
  }
 ],
 "metadata": {
  "kernelspec": {
   "display_name": "dls-assignment",
   "language": "python",
   "name": "dls-assignment"
  },
  "language_info": {
   "codemirror_mode": {
    "name": "ipython",
    "version": 3
   },
   "file_extension": ".py",
   "mimetype": "text/x-python",
   "name": "python",
   "nbconvert_exporter": "python",
   "pygments_lexer": "ipython3",
   "version": "3.10.6"
  }
 },
 "nbformat": 4,
 "nbformat_minor": 5
}
