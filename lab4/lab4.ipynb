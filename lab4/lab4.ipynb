{
 "cells": [
  {
   "cell_type": "code",
   "execution_count": 17,
   "id": "f61537be-61d4-4fa3-9dad-13e41b978874",
   "metadata": {
    "tags": []
   },
   "outputs": [],
   "source": [
    "import os\n",
    "import numpy as np\n",
    "import pandas as pd"
   ]
  },
  {
   "cell_type": "markdown",
   "id": "f443afa9-af33-47b2-ba03-4ed577c76627",
   "metadata": {},
   "source": [
    "## Naive Bayes"
   ]
  },
  {
   "cell_type": "code",
   "execution_count": 38,
   "id": "0a3142e9-9749-4461-8845-3006ee99c611",
   "metadata": {
    "tags": []
   },
   "outputs": [],
   "source": [
    "def read_csv_data(filename):\n",
    "    df = pd.read_csv(filename, header=None)\n",
    "    predictive_attributes = df.columns.values[:-1].tolist()\n",
    "    predictive_attributes = [f'A{i}' for i in predictive_attributes]\n",
    "    classification_attribute = df.columns.values[-1].tolist()\n",
    "    classification_attribute = f'C' \n",
    "    df.columns = predictive_attributes + [classification_attribute]\n",
    "    return df\n",
    "    "
   ]
  },
  {
   "cell_type": "code",
   "execution_count": 107,
   "id": "7bb70d6a-27e0-4741-afc9-c88febb6ca27",
   "metadata": {
    "tags": []
   },
   "outputs": [],
   "source": [
    "train_df, test_df = read_csv_data('ex2_train.csv'), read_csv_data('ex2_test.csv')"
   ]
  },
  {
   "cell_type": "code",
   "execution_count": 108,
   "id": "825a9a55-4df5-49ea-8e00-7e1ee59d1338",
   "metadata": {
    "tags": []
   },
   "outputs": [
    {
     "data": {
      "text/html": [
       "<div>\n",
       "<style scoped>\n",
       "    .dataframe tbody tr th:only-of-type {\n",
       "        vertical-align: middle;\n",
       "    }\n",
       "\n",
       "    .dataframe tbody tr th {\n",
       "        vertical-align: top;\n",
       "    }\n",
       "\n",
       "    .dataframe thead th {\n",
       "        text-align: right;\n",
       "    }\n",
       "</style>\n",
       "<table border=\"1\" class=\"dataframe\">\n",
       "  <thead>\n",
       "    <tr style=\"text-align: right;\">\n",
       "      <th></th>\n",
       "      <th>A0</th>\n",
       "      <th>A1</th>\n",
       "      <th>A2</th>\n",
       "      <th>C</th>\n",
       "    </tr>\n",
       "  </thead>\n",
       "  <tbody>\n",
       "    <tr>\n",
       "      <th>0</th>\n",
       "      <td>1</td>\n",
       "      <td>1</td>\n",
       "      <td>1</td>\n",
       "      <td>1</td>\n",
       "    </tr>\n",
       "    <tr>\n",
       "      <th>1</th>\n",
       "      <td>1</td>\n",
       "      <td>1</td>\n",
       "      <td>1</td>\n",
       "      <td>1</td>\n",
       "    </tr>\n",
       "    <tr>\n",
       "      <th>2</th>\n",
       "      <td>1</td>\n",
       "      <td>1</td>\n",
       "      <td>1</td>\n",
       "      <td>1</td>\n",
       "    </tr>\n",
       "    <tr>\n",
       "      <th>3</th>\n",
       "      <td>1</td>\n",
       "      <td>1</td>\n",
       "      <td>1</td>\n",
       "      <td>1</td>\n",
       "    </tr>\n",
       "    <tr>\n",
       "      <th>4</th>\n",
       "      <td>1</td>\n",
       "      <td>1</td>\n",
       "      <td>1</td>\n",
       "      <td>1</td>\n",
       "    </tr>\n",
       "    <tr>\n",
       "      <th>...</th>\n",
       "      <td>...</td>\n",
       "      <td>...</td>\n",
       "      <td>...</td>\n",
       "      <td>...</td>\n",
       "    </tr>\n",
       "    <tr>\n",
       "      <th>79</th>\n",
       "      <td>2</td>\n",
       "      <td>2</td>\n",
       "      <td>2</td>\n",
       "      <td>2</td>\n",
       "    </tr>\n",
       "    <tr>\n",
       "      <th>80</th>\n",
       "      <td>2</td>\n",
       "      <td>2</td>\n",
       "      <td>2</td>\n",
       "      <td>2</td>\n",
       "    </tr>\n",
       "    <tr>\n",
       "      <th>81</th>\n",
       "      <td>2</td>\n",
       "      <td>2</td>\n",
       "      <td>2</td>\n",
       "      <td>2</td>\n",
       "    </tr>\n",
       "    <tr>\n",
       "      <th>82</th>\n",
       "      <td>2</td>\n",
       "      <td>2</td>\n",
       "      <td>2</td>\n",
       "      <td>2</td>\n",
       "    </tr>\n",
       "    <tr>\n",
       "      <th>83</th>\n",
       "      <td>2</td>\n",
       "      <td>2</td>\n",
       "      <td>2</td>\n",
       "      <td>2</td>\n",
       "    </tr>\n",
       "  </tbody>\n",
       "</table>\n",
       "<p>84 rows × 4 columns</p>\n",
       "</div>"
      ],
      "text/plain": [
       "    A0  A1  A2  C\n",
       "0    1   1   1  1\n",
       "1    1   1   1  1\n",
       "2    1   1   1  1\n",
       "3    1   1   1  1\n",
       "4    1   1   1  1\n",
       "..  ..  ..  .. ..\n",
       "79   2   2   2  2\n",
       "80   2   2   2  2\n",
       "81   2   2   2  2\n",
       "82   2   2   2  2\n",
       "83   2   2   2  2\n",
       "\n",
       "[84 rows x 4 columns]"
      ]
     },
     "execution_count": 108,
     "metadata": {},
     "output_type": "execute_result"
    }
   ],
   "source": [
    "train_df"
   ]
  },
  {
   "cell_type": "code",
   "execution_count": 109,
   "id": "95a896c7-2383-4afc-9b0d-3cb9acdf04ec",
   "metadata": {
    "tags": []
   },
   "outputs": [
    {
     "data": {
      "text/html": [
       "<div>\n",
       "<style scoped>\n",
       "    .dataframe tbody tr th:only-of-type {\n",
       "        vertical-align: middle;\n",
       "    }\n",
       "\n",
       "    .dataframe tbody tr th {\n",
       "        vertical-align: top;\n",
       "    }\n",
       "\n",
       "    .dataframe thead th {\n",
       "        text-align: right;\n",
       "    }\n",
       "</style>\n",
       "<table border=\"1\" class=\"dataframe\">\n",
       "  <thead>\n",
       "    <tr style=\"text-align: right;\">\n",
       "      <th></th>\n",
       "      <th>A0</th>\n",
       "      <th>A1</th>\n",
       "      <th>A2</th>\n",
       "      <th>C</th>\n",
       "    </tr>\n",
       "  </thead>\n",
       "  <tbody>\n",
       "    <tr>\n",
       "      <th>0</th>\n",
       "      <td>1</td>\n",
       "      <td>1</td>\n",
       "      <td>1</td>\n",
       "      <td>1</td>\n",
       "    </tr>\n",
       "    <tr>\n",
       "      <th>1</th>\n",
       "      <td>1</td>\n",
       "      <td>1</td>\n",
       "      <td>2</td>\n",
       "      <td>2</td>\n",
       "    </tr>\n",
       "    <tr>\n",
       "      <th>2</th>\n",
       "      <td>1</td>\n",
       "      <td>2</td>\n",
       "      <td>1</td>\n",
       "      <td>3</td>\n",
       "    </tr>\n",
       "    <tr>\n",
       "      <th>3</th>\n",
       "      <td>1</td>\n",
       "      <td>2</td>\n",
       "      <td>2</td>\n",
       "      <td>1</td>\n",
       "    </tr>\n",
       "    <tr>\n",
       "      <th>4</th>\n",
       "      <td>2</td>\n",
       "      <td>1</td>\n",
       "      <td>1</td>\n",
       "      <td>2</td>\n",
       "    </tr>\n",
       "    <tr>\n",
       "      <th>5</th>\n",
       "      <td>2</td>\n",
       "      <td>1</td>\n",
       "      <td>2</td>\n",
       "      <td>3</td>\n",
       "    </tr>\n",
       "    <tr>\n",
       "      <th>6</th>\n",
       "      <td>2</td>\n",
       "      <td>2</td>\n",
       "      <td>1</td>\n",
       "      <td>1</td>\n",
       "    </tr>\n",
       "    <tr>\n",
       "      <th>7</th>\n",
       "      <td>2</td>\n",
       "      <td>2</td>\n",
       "      <td>2</td>\n",
       "      <td>2</td>\n",
       "    </tr>\n",
       "  </tbody>\n",
       "</table>\n",
       "</div>"
      ],
      "text/plain": [
       "   A0  A1  A2  C\n",
       "0   1   1   1  1\n",
       "1   1   1   2  2\n",
       "2   1   2   1  3\n",
       "3   1   2   2  1\n",
       "4   2   1   1  2\n",
       "5   2   1   2  3\n",
       "6   2   2   1  1\n",
       "7   2   2   2  2"
      ]
     },
     "execution_count": 109,
     "metadata": {},
     "output_type": "execute_result"
    }
   ],
   "source": [
    "test_df"
   ]
  },
  {
   "cell_type": "code",
   "execution_count": 110,
   "id": "4117560f-8c83-4775-9225-9031ca9c5df8",
   "metadata": {
    "tags": []
   },
   "outputs": [
    {
     "name": "stdout",
     "output_type": "stream",
     "text": [
      "1 False [1, 2, 3]\n"
     ]
    }
   ],
   "source": [
    "delta = 1\n",
    "C_flag = False\n",
    "num_train_examples = len(train_df.index)\n",
    "\n",
    "labels = sorted(train_df.C.unique().tolist())\n",
    "print(delta, C_flag, labels)"
   ]
  },
  {
   "cell_type": "code",
   "execution_count": 113,
   "id": "d1479d73-95ed-48a5-a439-c693447feef9",
   "metadata": {
    "tags": []
   },
   "outputs": [
    {
     "name": "stdout",
     "output_type": "stream",
     "text": [
      "P(C=1) = [20 / 84]\n",
      "P(A0 | C=1) = 15 / 20\n",
      "P(A1 | C=1) = 15 / 20\n",
      "P(A2 | C=1) = 10 / 20\n",
      "P(C=2) = [34 / 84]\n",
      "P(A0 | C=2) = 8 / 34\n",
      "P(A1 | C=2) = 20 / 34\n",
      "P(A2 | C=2) = 16 / 34\n",
      "P(C=3) = [30 / 84]\n",
      "P(A0 | C=3) = 15 / 30\n",
      "P(A1 | C=3) = 20 / 30\n",
      "P(A2 | C=3) = 10 / 30\n",
      "NB(C=1) = 0.066964\n",
      "NB(C=2) = 0.026363\n",
      "NB(C=3) = 0.039683\n",
      "match: \"1\"\n",
      "P(C=1) = [20 / 84]\n",
      "P(A0 | C=1) = 15 / 20\n",
      "P(A1 | C=1) = 15 / 20\n",
      "P(A2 | C=1) = 10 / 20\n",
      "P(C=2) = [34 / 84]\n",
      "P(A0 | C=2) = 8 / 34\n",
      "P(A1 | C=2) = 20 / 34\n",
      "P(A2 | C=2) = 18 / 34\n",
      "P(C=3) = [30 / 84]\n",
      "P(A0 | C=3) = 15 / 30\n",
      "P(A1 | C=3) = 20 / 30\n",
      "P(A2 | C=3) = 20 / 30\n",
      "NB(C=1) = 0.066964\n",
      "NB(C=2) = 0.029659\n",
      "NB(C=3) = 0.079365\n",
      "fail: got \"3\" != want \"2\"\n",
      "P(C=1) = [20 / 84]\n",
      "P(A0 | C=1) = 15 / 20\n",
      "P(A1 | C=1) = 5 / 20\n",
      "P(A2 | C=1) = 10 / 20\n",
      "P(C=2) = [34 / 84]\n",
      "P(A0 | C=2) = 8 / 34\n",
      "P(A1 | C=2) = 14 / 34\n",
      "P(A2 | C=2) = 16 / 34\n",
      "P(C=3) = [30 / 84]\n",
      "P(A0 | C=3) = 15 / 30\n",
      "P(A1 | C=3) = 10 / 30\n",
      "P(A2 | C=3) = 10 / 30\n",
      "NB(C=1) = 0.022321\n",
      "NB(C=2) = 0.018454\n",
      "NB(C=3) = 0.019841\n",
      "fail: got \"1\" != want \"3\"\n",
      "P(C=1) = [20 / 84]\n",
      "P(A0 | C=1) = 15 / 20\n",
      "P(A1 | C=1) = 5 / 20\n",
      "P(A2 | C=1) = 10 / 20\n",
      "P(C=2) = [34 / 84]\n",
      "P(A0 | C=2) = 8 / 34\n",
      "P(A1 | C=2) = 14 / 34\n",
      "P(A2 | C=2) = 18 / 34\n",
      "P(C=3) = [30 / 84]\n",
      "P(A0 | C=3) = 15 / 30\n",
      "P(A1 | C=3) = 10 / 30\n",
      "P(A2 | C=3) = 20 / 30\n",
      "NB(C=1) = 0.022321\n",
      "NB(C=2) = 0.020761\n",
      "NB(C=3) = 0.039683\n",
      "fail: got \"3\" != want \"1\"\n",
      "P(C=1) = [20 / 84]\n",
      "P(A0 | C=1) = 5 / 20\n",
      "P(A1 | C=1) = 15 / 20\n",
      "P(A2 | C=1) = 10 / 20\n",
      "P(C=2) = [34 / 84]\n",
      "P(A0 | C=2) = 26 / 34\n",
      "P(A1 | C=2) = 20 / 34\n",
      "P(A2 | C=2) = 16 / 34\n",
      "P(C=3) = [30 / 84]\n",
      "P(A0 | C=3) = 15 / 30\n",
      "P(A1 | C=3) = 20 / 30\n",
      "P(A2 | C=3) = 10 / 30\n",
      "NB(C=1) = 0.022321\n",
      "NB(C=2) = 0.085681\n",
      "NB(C=3) = 0.039683\n",
      "match: \"2\"\n",
      "P(C=1) = [20 / 84]\n",
      "P(A0 | C=1) = 5 / 20\n",
      "P(A1 | C=1) = 15 / 20\n",
      "P(A2 | C=1) = 10 / 20\n",
      "P(C=2) = [34 / 84]\n",
      "P(A0 | C=2) = 26 / 34\n",
      "P(A1 | C=2) = 20 / 34\n",
      "P(A2 | C=2) = 18 / 34\n",
      "P(C=3) = [30 / 84]\n",
      "P(A0 | C=3) = 15 / 30\n",
      "P(A1 | C=3) = 20 / 30\n",
      "P(A2 | C=3) = 20 / 30\n",
      "NB(C=1) = 0.022321\n",
      "NB(C=2) = 0.096391\n",
      "NB(C=3) = 0.079365\n",
      "fail: got \"2\" != want \"3\"\n",
      "P(C=1) = [20 / 84]\n",
      "P(A0 | C=1) = 5 / 20\n",
      "P(A1 | C=1) = 5 / 20\n",
      "P(A2 | C=1) = 10 / 20\n",
      "P(C=2) = [34 / 84]\n",
      "P(A0 | C=2) = 26 / 34\n",
      "P(A1 | C=2) = 14 / 34\n",
      "P(A2 | C=2) = 16 / 34\n",
      "P(C=3) = [30 / 84]\n",
      "P(A0 | C=3) = 15 / 30\n",
      "P(A1 | C=3) = 10 / 30\n",
      "P(A2 | C=3) = 10 / 30\n",
      "NB(C=1) = 0.007440\n",
      "NB(C=2) = 0.059977\n",
      "NB(C=3) = 0.019841\n",
      "fail: got \"2\" != want \"1\"\n",
      "P(C=1) = [20 / 84]\n",
      "P(A0 | C=1) = 5 / 20\n",
      "P(A1 | C=1) = 5 / 20\n",
      "P(A2 | C=1) = 10 / 20\n",
      "P(C=2) = [34 / 84]\n",
      "P(A0 | C=2) = 26 / 34\n",
      "P(A1 | C=2) = 14 / 34\n",
      "P(A2 | C=2) = 18 / 34\n",
      "P(C=3) = [30 / 84]\n",
      "P(A0 | C=3) = 15 / 30\n",
      "P(A1 | C=3) = 10 / 30\n",
      "P(A2 | C=3) = 20 / 30\n",
      "NB(C=1) = 0.007440\n",
      "NB(C=2) = 0.067474\n",
      "NB(C=3) = 0.039683\n",
      "match: \"2\"\n"
     ]
    }
   ],
   "source": [
    "for idx, row in test_df.iterrows():\n",
    "    prob_a_label_list = []\n",
    "    pred_attribute_values = row.values[:-1]\n",
    "    for v in labels:\n",
    "        denominator = len(train_df[train_df['C'] == v].index)\n",
    "        print(f\"P(C={v}) = [{denominator} / {num_train_examples}]\")\n",
    "        prob_c = denominator/num_train_examples\n",
    "        prob_a_list = []\n",
    "        for idx, u in enumerate(pred_attribute_values):\n",
    "            #  q=#(Dom(Ai)), the number of different values of Ai\n",
    "            q = len(train_df[f'A{idx}'].unique())\n",
    "            num = len(train_df[(train_df[f'A{idx}'] == u) & (train_df[f'C'] == v)].index)\n",
    "            den = denominator\n",
    "            if C_flag:\n",
    "                num += delta\n",
    "                den += q*delta    \n",
    "            prob_a = float(num/den)\n",
    "            print(f\"P(A{idx} | C={v}) = {num} / {den}\")\n",
    "            \n",
    "            prob_a_list.append(prob_a)\n",
    "        prob_a_label_list.append(np.prod(prob_a_list)*prob_c)   \n",
    "\n",
    "    for idx, v in enumerate(sorted(labels)):\n",
    "        print(f\"NB(C={v}) = {prob_a_label_list[idx]:06f}\")\n",
    "    \n",
    "    predicted_test_label = labels[np.argmax(prob_a_label_list)]\n",
    "    true_test_label = row.values[-1]\n",
    "    \n",
    "    if predicted_test_label == true_test_label:\n",
    "        print(f'match: \"{predicted_test_label}\"')\n",
    "    else:\n",
    "        print(f'fail: got \"{predicted_test_label}\" != want \"{true_test_label}\"')            "
   ]
  },
  {
   "cell_type": "code",
   "execution_count": null,
   "id": "ac74a905-0cea-4f64-b279-410425ee1e8c",
   "metadata": {},
   "outputs": [],
   "source": []
  },
  {
   "cell_type": "markdown",
   "id": "e09dde5c-709b-4247-85e5-c02a3a3bdbba",
   "metadata": {},
   "source": [
    "## KNN"
   ]
  },
  {
   "cell_type": "code",
   "execution_count": 199,
   "id": "27a9a7c0-7292-4441-8faf-a498f95ebb89",
   "metadata": {},
   "outputs": [],
   "source": [
    "def read_data(filename):\n",
    "    if filename.split('.')[-1] == 'txt':\n",
    "        df = pd.read_csv(filename, sep=\" \", header=None)[0].str.split(\",\", expand = True)\n",
    "    if filename.split('.')[-1] == 'csv':\n",
    "        df = pd.read_csv(filename, header=None)\n",
    "    predictive_attributes = df.columns.values[:-1].tolist()\n",
    "    predictive_attributes = [f'A{i}' for i in predictive_attributes]\n",
    "    classification_attribute = df.columns.values[-1].tolist()\n",
    "    classification_attribute = f'C' \n",
    "    df.columns = predictive_attributes + [classification_attribute]\n",
    "    return df\n",
    "    \n",
    "train_df, test_df = read_data('knn2.train.txt'), read_data('knn2.test.txt')   \n",
    "kNN_k = 3"
   ]
  },
  {
   "cell_type": "code",
   "execution_count": 200,
   "id": "0a25ba34-6705-4a05-9f17-508aae01b3b6",
   "metadata": {},
   "outputs": [
    {
     "data": {
      "text/html": [
       "<div>\n",
       "<style scoped>\n",
       "    .dataframe tbody tr th:only-of-type {\n",
       "        vertical-align: middle;\n",
       "    }\n",
       "\n",
       "    .dataframe tbody tr th {\n",
       "        vertical-align: top;\n",
       "    }\n",
       "\n",
       "    .dataframe thead th {\n",
       "        text-align: right;\n",
       "    }\n",
       "</style>\n",
       "<table border=\"1\" class=\"dataframe\">\n",
       "  <thead>\n",
       "    <tr style=\"text-align: right;\">\n",
       "      <th></th>\n",
       "      <th>A0</th>\n",
       "      <th>A1</th>\n",
       "      <th>A2</th>\n",
       "      <th>C</th>\n",
       "    </tr>\n",
       "  </thead>\n",
       "  <tbody>\n",
       "    <tr>\n",
       "      <th>0</th>\n",
       "      <td>1</td>\n",
       "      <td>1</td>\n",
       "      <td>1</td>\n",
       "      <td>A</td>\n",
       "    </tr>\n",
       "    <tr>\n",
       "      <th>1</th>\n",
       "      <td>1</td>\n",
       "      <td>2</td>\n",
       "      <td>10</td>\n",
       "      <td>A</td>\n",
       "    </tr>\n",
       "    <tr>\n",
       "      <th>2</th>\n",
       "      <td>2</td>\n",
       "      <td>1</td>\n",
       "      <td>13</td>\n",
       "      <td>A</td>\n",
       "    </tr>\n",
       "    <tr>\n",
       "      <th>3</th>\n",
       "      <td>5</td>\n",
       "      <td>5</td>\n",
       "      <td>30</td>\n",
       "      <td>C</td>\n",
       "    </tr>\n",
       "    <tr>\n",
       "      <th>4</th>\n",
       "      <td>6</td>\n",
       "      <td>6</td>\n",
       "      <td>40</td>\n",
       "      <td>C</td>\n",
       "    </tr>\n",
       "    <tr>\n",
       "      <th>5</th>\n",
       "      <td>10</td>\n",
       "      <td>11</td>\n",
       "      <td>77</td>\n",
       "      <td>B</td>\n",
       "    </tr>\n",
       "    <tr>\n",
       "      <th>6</th>\n",
       "      <td>12</td>\n",
       "      <td>14</td>\n",
       "      <td>88</td>\n",
       "      <td>B</td>\n",
       "    </tr>\n",
       "    <tr>\n",
       "      <th>7</th>\n",
       "      <td>19</td>\n",
       "      <td>17</td>\n",
       "      <td>99</td>\n",
       "      <td>B</td>\n",
       "    </tr>\n",
       "  </tbody>\n",
       "</table>\n",
       "</div>"
      ],
      "text/plain": [
       "   A0  A1  A2  C\n",
       "0   1   1   1  A\n",
       "1   1   2  10  A\n",
       "2   2   1  13  A\n",
       "3   5   5  30  C\n",
       "4   6   6  40  C\n",
       "5  10  11  77  B\n",
       "6  12  14  88  B\n",
       "7  19  17  99  B"
      ]
     },
     "execution_count": 200,
     "metadata": {},
     "output_type": "execute_result"
    }
   ],
   "source": [
    "train_df"
   ]
  },
  {
   "cell_type": "code",
   "execution_count": 201,
   "id": "671e9bd3-a044-4832-aefe-bc782c3ab665",
   "metadata": {},
   "outputs": [
    {
     "data": {
      "text/html": [
       "<div>\n",
       "<style scoped>\n",
       "    .dataframe tbody tr th:only-of-type {\n",
       "        vertical-align: middle;\n",
       "    }\n",
       "\n",
       "    .dataframe tbody tr th {\n",
       "        vertical-align: top;\n",
       "    }\n",
       "\n",
       "    .dataframe thead th {\n",
       "        text-align: right;\n",
       "    }\n",
       "</style>\n",
       "<table border=\"1\" class=\"dataframe\">\n",
       "  <thead>\n",
       "    <tr style=\"text-align: right;\">\n",
       "      <th></th>\n",
       "      <th>A0</th>\n",
       "      <th>A1</th>\n",
       "      <th>A2</th>\n",
       "      <th>C</th>\n",
       "    </tr>\n",
       "  </thead>\n",
       "  <tbody>\n",
       "    <tr>\n",
       "      <th>0</th>\n",
       "      <td>3</td>\n",
       "      <td>3</td>\n",
       "      <td>6</td>\n",
       "      <td>A</td>\n",
       "    </tr>\n",
       "    <tr>\n",
       "      <th>1</th>\n",
       "      <td>4</td>\n",
       "      <td>5</td>\n",
       "      <td>20</td>\n",
       "      <td>B</td>\n",
       "    </tr>\n",
       "    <tr>\n",
       "      <th>2</th>\n",
       "      <td>2</td>\n",
       "      <td>2</td>\n",
       "      <td>33</td>\n",
       "      <td>A</td>\n",
       "    </tr>\n",
       "    <tr>\n",
       "      <th>3</th>\n",
       "      <td>10</td>\n",
       "      <td>9</td>\n",
       "      <td>19</td>\n",
       "      <td>A</td>\n",
       "    </tr>\n",
       "    <tr>\n",
       "      <th>4</th>\n",
       "      <td>14</td>\n",
       "      <td>12</td>\n",
       "      <td>100</td>\n",
       "      <td>B</td>\n",
       "    </tr>\n",
       "    <tr>\n",
       "      <th>5</th>\n",
       "      <td>17</td>\n",
       "      <td>19</td>\n",
       "      <td>101</td>\n",
       "      <td>B</td>\n",
       "    </tr>\n",
       "  </tbody>\n",
       "</table>\n",
       "</div>"
      ],
      "text/plain": [
       "   A0  A1   A2  C\n",
       "0   3   3    6  A\n",
       "1   4   5   20  B\n",
       "2   2   2   33  A\n",
       "3  10   9   19  A\n",
       "4  14  12  100  B\n",
       "5  17  19  101  B"
      ]
     },
     "execution_count": 201,
     "metadata": {},
     "output_type": "execute_result"
    }
   ],
   "source": [
    "test_df"
   ]
  },
  {
   "cell_type": "code",
   "execution_count": 202,
   "id": "f2619315-7bf0-400e-a00c-e6b1fd6869b1",
   "metadata": {
    "tags": []
   },
   "outputs": [
    {
     "name": "stdout",
     "output_type": "stream",
     "text": [
      "['A', 'B', 'C']\n"
     ]
    }
   ],
   "source": [
    "verbose=True\n",
    "labels = sorted(train_df.C.unique().tolist())\n",
    "print(labels)"
   ]
  },
  {
   "cell_type": "code",
   "execution_count": 203,
   "id": "e7716456-6c10-4d7a-9493-1c5c6b7f446a",
   "metadata": {
    "tags": []
   },
   "outputs": [],
   "source": [
    "def decide_label(top_k, labels):\n",
    "    # returns label with maximum weight, label in sorted order in case of ties \n",
    "    weighted_top_k = [(1.0/i[0], i[1]) for i in top_k]\n",
    "    decision = {k:0.0 for k in labels}\n",
    "    for point in weighted_top_k:\n",
    "        decision[point[1]] += point[0]\n",
    "    return max(decision, key=decision.get)\n",
    "\n",
    "def euclidean_distance(pt1, pt2):\n",
    "    point1 = np.array(pt1)\n",
    "    point2 = np.array(pt2)\n",
    "    return np.sqrt(np.sum(np.square(point1 - point2)))"
   ]
  },
  {
   "cell_type": "code",
   "execution_count": 204,
   "id": "478d9d50-f5e7-4c4f-ad14-09df1d9fa8ff",
   "metadata": {
    "tags": []
   },
   "outputs": [
    {
     "name": "stdout",
     "output_type": "stream",
     "text": [
      "want=A got=A\n",
      "want=B got=A\n",
      "want=A got=C\n",
      "want=A got=A\n",
      "want=B got=B\n",
      "want=B got=B\n"
     ]
    }
   ],
   "source": [
    "for _, row in test_df.iterrows():\n",
    "    test_point = tuple([int(p) for p in row[:-1].values])\n",
    "    true_test_label = row[-1]\n",
    "    distance_list = []\n",
    "    train_label_list = []\n",
    "    for __, train_row in train_df.iterrows():\n",
    "        train_point = tuple([int(p) for p in train_row[:-1].values])\n",
    "        distance_list.append(euclidean_distance(train_point, test_point))\n",
    "        train_label_list.append(train_row[-1])\n",
    "    top_k = sorted(zip(distance_list, train_label_list))[:kNN_k]\n",
    "    predicted_test_label = decide_label(top_k=top_k, labels=labels)\n",
    "    if verbose:\n",
    "        print(f\"want={true_test_label} got={predicted_test_label}\")\n",
    "        \n",
    "    \n",
    "    "
   ]
  },
  {
   "cell_type": "code",
   "execution_count": 160,
   "id": "ca4797ed-c99d-45c8-b7f9-1ee5a240c1aa",
   "metadata": {
    "tags": []
   },
   "outputs": [],
   "source": []
  },
  {
   "cell_type": "code",
   "execution_count": null,
   "id": "94d4b760-6727-43cf-98f3-a27088b119ec",
   "metadata": {},
   "outputs": [],
   "source": []
  },
  {
   "cell_type": "markdown",
   "id": "148b0d96-a5ba-451a-926d-7436ab368d3d",
   "metadata": {},
   "source": [
    "## KMeans"
   ]
  },
  {
   "cell_type": "code",
   "execution_count": 261,
   "id": "63084f6f-7b5f-47c6-ab13-1cb2ca14ec8e",
   "metadata": {
    "tags": []
   },
   "outputs": [],
   "source": [
    "train_df = read_data('km2.txt')"
   ]
  },
  {
   "cell_type": "code",
   "execution_count": 263,
   "id": "36eecb82-b553-4e87-9f51-83bfea574971",
   "metadata": {
    "tags": []
   },
   "outputs": [
    {
     "data": {
      "text/plain": [
       "(100, 4)"
      ]
     },
     "execution_count": 263,
     "metadata": {},
     "output_type": "execute_result"
    }
   ],
   "source": [
    "train_df.shape"
   ]
  },
  {
   "cell_type": "code",
   "execution_count": 265,
   "id": "6a22051e-e01a-4c07-87e5-cca21c02c566",
   "metadata": {
    "tags": []
   },
   "outputs": [
    {
     "name": "stdout",
     "output_type": "stream",
     "text": [
      "['A0', 'A1', 'A2']\n"
     ]
    },
    {
     "data": {
      "text/plain": [
       "{'A1': (81, 1887, 1847),\n",
       " 'A2': (59, 81, 1318),\n",
       " 'A3': (425, 540, 456),\n",
       " 'A4': (1300, 694, 511),\n",
       " 'A5': (162, 1089, 728),\n",
       " 'A6': (1274, 1211, 1445),\n",
       " 'A7': (1237, 1106, 495),\n",
       " 'A8': (1466, 1528, 258),\n",
       " 'A9': (47, 1947, 287),\n",
       " 'A10': (888, 790, 1015),\n",
       " 'A11': (1541, 408, 1387),\n",
       " 'A12': (831, 1429, 1356),\n",
       " 'A13': (1737, 631, 1485),\n",
       " 'A14': (1026, 413, 1090),\n",
       " 'A15': (1194, 563, 433),\n",
       " 'A16': (147, 78, 324),\n",
       " 'A17': (159, 1353, 1957),\n",
       " 'A18': (1721, 1189, 199),\n",
       " 'A19': (1000, 705, 888),\n",
       " 'A20': (538, 1703, 1355),\n",
       " 'A21': (451, 510, 605),\n",
       " 'A22': (156, 266, 1828),\n",
       " 'A23': (1561, 1202, 783),\n",
       " 'A24': (1746, 1563, 376),\n",
       " 'A25': (1002, 1718, 1447),\n",
       " 'A26': (1094, 1577, 1463),\n",
       " 'A27': (1996, 420, 623),\n",
       " 'A28': (953, 1137, 1133),\n",
       " 'A29': (1241, 59, 1033),\n",
       " 'A30': (643, 1891, 2),\n",
       " 'A31': (878, 1336, 546),\n",
       " 'A32': (1107, 1940, 503),\n",
       " 'A33': (552, 1843, 205),\n",
       " 'A34': (1598, 1425, 1351),\n",
       " 'A35': (1515, 1757, 1687),\n",
       " 'A36': (10, 1410, 1285),\n",
       " 'A37': (590, 1632, 1098),\n",
       " 'A38': (553, 591, 582),\n",
       " 'A39': (1384, 1297, 1267),\n",
       " 'A40': (137, 1271, 1894),\n",
       " 'A41': (1726, 1802, 1981),\n",
       " 'A42': (79, 66, 1270),\n",
       " 'A43': (493, 1086, 1819),\n",
       " 'A44': (981, 52, 1175),\n",
       " 'A45': (885, 1710, 1387),\n",
       " 'A46': (1749, 1528, 818),\n",
       " 'A47': (384, 1903, 1224),\n",
       " 'A48': (547, 1612, 1532),\n",
       " 'A49': (1616, 1839, 540),\n",
       " 'A50': (1786, 1051, 76),\n",
       " 'A51': (1640, 1351, 844),\n",
       " 'A52': (364, 305, 1183),\n",
       " 'A53': (801, 90, 1602),\n",
       " 'A54': (258, 1767, 1231),\n",
       " 'A55': (1578, 154, 1822),\n",
       " 'A56': (1223, 1342, 208),\n",
       " 'A57': (1743, 1968, 1166),\n",
       " 'A58': (1710, 535, 440),\n",
       " 'A59': (904, 1162, 657),\n",
       " 'A60': (415, 1371, 1039),\n",
       " 'A61': (1430, 1513, 1700),\n",
       " 'A62': (1359, 720, 783),\n",
       " 'A63': (870, 984, 247),\n",
       " 'A64': (10, 565, 162),\n",
       " 'A65': (829, 1920, 48),\n",
       " 'A66': (756, 1695, 666),\n",
       " 'A67': (200, 1456, 629),\n",
       " 'A68': (1092, 831, 1577),\n",
       " 'A69': (1886, 1320, 1399),\n",
       " 'A70': (1162, 1447, 292),\n",
       " 'A71': (1888, 611, 1103),\n",
       " 'A72': (1888, 318, 1756),\n",
       " 'A73': (19, 1807, 157),\n",
       " 'A74': (652, 675, 181),\n",
       " 'A75': (1853, 795, 417),\n",
       " 'A76': (1393, 470, 996),\n",
       " 'A77': (1386, 632, 520),\n",
       " 'A78': (260, 1922, 1029),\n",
       " 'A79': (1661, 60, 420),\n",
       " 'A80': (1079, 954, 1464),\n",
       " 'A81': (60, 1551, 1181),\n",
       " 'A82': (1757, 1516, 600),\n",
       " 'A83': (1039, 637, 1533),\n",
       " 'A84': (1561, 804, 685),\n",
       " 'A85': (1509, 1215, 1719),\n",
       " 'A86': (1014, 1040, 662),\n",
       " 'A87': (1740, 0, 1284),\n",
       " 'A88': (1173, 235, 443),\n",
       " 'A89': (421, 390, 574),\n",
       " 'A90': (869, 70, 336),\n",
       " 'A91': (1338, 1472, 1544),\n",
       " 'A92': (395, 174, 1237),\n",
       " 'A93': (1524, 1293, 1606),\n",
       " 'A94': (1648, 1352, 1420),\n",
       " 'A95': (622, 371, 117),\n",
       " 'A96': (151, 1265, 682),\n",
       " 'A97': (1479, 592, 129),\n",
       " 'A98': (231, 721, 855),\n",
       " 'A99': (511, 1343, 1053),\n",
       " 'A100': (1166, 1859, 1867)}"
      ]
     },
     "execution_count": 265,
     "metadata": {},
     "output_type": "execute_result"
    }
   ],
   "source": [
    "# create points dict\n",
    "pred_cols = sorted(list(set(train_df.columns) - set('C')))\n",
    "print(pred_cols)\n",
    "points = {k:tuple([int(i) for i in v]) for k,v in zip(train_df['C'].values.tolist(), train_df[pred_cols].apply(tuple, axis=1).values.tolist())}\n",
    "points"
   ]
  },
  {
   "cell_type": "code",
   "execution_count": null,
   "id": "526b8289-c4e6-43e6-a3d9-25c0f7c6d0d8",
   "metadata": {},
   "outputs": [],
   "source": []
  },
  {
   "cell_type": "code",
   "execution_count": 236,
   "id": "b39a5d10-8976-4df2-ac56-3691dadb8d2b",
   "metadata": {
    "tags": []
   },
   "outputs": [],
   "source": [
    "d = {'C1': [('A1', (81, 1887)), ('A3', (81, 1318)), ('A5', (456, 1300)), ('A7', (162, 1089)), ('A8', (728, 1274)), ('A11', (495, 1466)), ('A13', (47, 1947)), ('A14', (287, 888)), ('A21', (413, 1090)), ('A25', (159, 1353)), ('A33', (266, 1828)), ('A35', (783, 1746)), ('A37', (1002, 1718)), ('A41', (623, 953)), ('A46', (878, 1336)), ('A47', (546, 1107)), ('A49', (552, 1843)), ('A50', (205, 1598))], 'C2': [('A4', (425, 540)), ('A6', (694, 511)), ('A23', (433, 147)), ('A24', (78, 324)), ('A27', (1189, 199)), ('A29', (888, 538)), ('A31', (451, 510)), ('A32', (605, 156)), ('A43', (1241, 59))], 'C3': [('A2', (1847, 59)), ('A9', (1211, 1445)), ('A10', (1237, 1106)), ('A12', (1528, 258)), ('A15', (790, 1015)), ('A16', (1541, 408)), ('A17', (1387, 831)), ('A18', (1429, 1356)), ('A19', (1737, 631)), ('A20', (1485, 1026)), ('A22', (1194, 563)), ('A26', (1957, 1721)), ('A28', (1000, 705)), ('A30', (1703, 1355)), ('A34', (1561, 1202)), ('A36', (1563, 376)), ('A38', (1447, 1094)), ('A39', (1577, 1463)), ('A40', (1996, 420)), ('A42', (1137, 1133)), ('A44', (1033, 643)), ('A45', (1891, 2)), ('A48', (1940, 503))]}"
   ]
  },
  {
   "cell_type": "code",
   "execution_count": 238,
   "id": "d909b588-e691-4172-bfe1-3b1782a56664",
   "metadata": {
    "tags": []
   },
   "outputs": [
    {
     "data": {
      "text/plain": [
       "{'C1': {'A1,A3,A5,A7,A8,A11,A13,A14,A21,A25,A33,A35,A37,A41,A46,A47,A49,A50'},\n",
       " 'C2': {'A4,A6,A23,A24,A27,A29,A31,A32,A43'},\n",
       " 'C3': {'A2,A9,A10,A12,A15,A16,A17,A18,A19,A20,A22,A26,A28,A30,A34,A36,A38,A39,A40,A42,A44,A45,A48'}}"
      ]
     },
     "execution_count": 238,
     "metadata": {},
     "output_type": "execute_result"
    }
   ],
   "source": [
    "{k:{','.join(i[0] for i in v)} for k,v in d.items()}"
   ]
  },
  {
   "cell_type": "code",
   "execution_count": null,
   "id": "a193695e-732e-4659-a9f0-90d459059bc2",
   "metadata": {},
   "outputs": [],
   "source": []
  },
  {
   "cell_type": "code",
   "execution_count": null,
   "id": "b0af5710-93ad-4670-a1c5-0777ed48deca",
   "metadata": {},
   "outputs": [],
   "source": []
  },
  {
   "cell_type": "code",
   "execution_count": 260,
   "id": "859d90a7-c8a8-4750-80f5-a96fb54c2001",
   "metadata": {
    "tags": []
   },
   "outputs": [
    {
     "name": "stdout",
     "output_type": "stream",
     "text": [
      "C1 = {A1,A3,A5,A7,A8,A11,A13,A14,A15,A21,A25,A33,A35,A37,A41,A46,A47,A49,A50}\n",
      "C2 = {A4,A6,A23,A24,A27,A28,A29,A31,A32,A43,A44}\n",
      "C3 = {A2,A9,A10,A12,A16,A17,A18,A19,A20,A22,A26,A30,A34,A36,A38,A39,A40,A42,A45,A48}\n",
      "([450.2105263157895 1408.2105263157894)]\n",
      "([730.6363636363636 393.8181818181818)]\n",
      "([1568.4 847.6)]\n"
     ]
    }
   ],
   "source": [
    "centroids = [(0,500), (200,200), (1000,1000)]\n",
    "kMeans_k = 3\n",
    "while(True):\n",
    "    old_centroids = centroids\n",
    "    new_clusters = {f'C{i+1}':[] for i in range(len(centroids))}\n",
    "    for k, p in points.items():\n",
    "        d = []\n",
    "        for idx, q in enumerate(centroids):\n",
    "            d.append((euclidean_distance(p,q), idx+1))\n",
    "        new_centre = min(d)[1]\n",
    "        # print(f\"Point: {k}, min distance: {min(d)[0]}, assigned cluster: {min(d)[1]}\")\n",
    "        new_clusters[f'C{new_centre}'].append((k,p))\n",
    "        \n",
    "    centroids = []\n",
    "    for k,v in new_clusters.items():\n",
    "        d = []\n",
    "        for i in v:\n",
    "            d.append(i[1])\n",
    "        x_new = np.average([j[0] for j in d])\n",
    "        y_new = np.average([j[1] for j in d])\n",
    "        centroids.append((x_new, y_new))\n",
    "    \n",
    "    new_centroids = centroids\n",
    "    \n",
    "    if (old_centroids != new_centroids):\n",
    "        kMeans_k -= 1\n",
    "    else:\n",
    "        break\n",
    "\n",
    "for k,v in new_clusters.items():\n",
    "    v_ = ','.join([j[0] for j in v])\n",
    "    out = f\"{k} = \" + \"{\" + f\"{v_}\" + \"}\"\n",
    "    print(out)\n",
    "for c in new_centroids:\n",
    "    c_ = \" \".join([str(i) for i in c])\n",
    "    out = \"([\" + c_ + \")]\"\n",
    "    print(out)"
   ]
  },
  {
   "cell_type": "code",
   "execution_count": null,
   "id": "38855110-3957-4433-a499-a16417b5b00a",
   "metadata": {},
   "outputs": [],
   "source": []
  },
  {
   "cell_type": "code",
   "execution_count": null,
   "id": "03bc18c7-494c-479f-b29e-b26d62e8bcd6",
   "metadata": {},
   "outputs": [],
   "source": []
  },
  {
   "cell_type": "code",
   "execution_count": null,
   "id": "cc192ea3-a313-456d-b054-075ca153c121",
   "metadata": {},
   "outputs": [],
   "source": []
  },
  {
   "cell_type": "code",
   "execution_count": 250,
   "id": "f17a951f-85d4-48db-87fb-026fd2353224",
   "metadata": {
    "tags": []
   },
   "outputs": [],
   "source": [
    "\n"
   ]
  },
  {
   "cell_type": "code",
   "execution_count": 251,
   "id": "500c4c00-51d5-4ca3-b55c-f86c2609bfba",
   "metadata": {
    "tags": []
   },
   "outputs": [],
   "source": [
    "def print_metrics(metrics):\n",
    "    for label in metrics.keys():\n",
    "        print(f\"Label={label} Precision={metrics[label]['tp']}/{metrics[label]['tp'] + metrics[label]['fp']} Recall={metrics[label]['tp']}/{metrics[label]['tp'] + metrics[label]['fn']}\")"
   ]
  },
  {
   "cell_type": "code",
   "execution_count": 252,
   "id": "9348fedb-69c6-41cd-801f-56290c5c4d05",
   "metadata": {
    "tags": []
   },
   "outputs": [
    {
     "name": "stdout",
     "output_type": "stream",
     "text": [
      "Label=A Precision=2/3 Recall=2/3\n",
      "Label=B Precision=2/3 Recall=2/3\n"
     ]
    }
   ],
   "source": [
    "metrics = {'A': {'tp': 2, 'fp': 1, 'tn': 0, 'fn': 1}, 'B': {'tp': 2, 'fp': 1, 'tn': 0, 'fn': 1}}\n",
    "print_metrics(metrics=metrics)"
   ]
  },
  {
   "cell_type": "code",
   "execution_count": null,
   "id": "ed712c42-7db9-4424-9f40-91983b5cf197",
   "metadata": {},
   "outputs": [],
   "source": []
  }
 ],
 "metadata": {
  "kernelspec": {
   "display_name": "dls-assignment",
   "language": "python",
   "name": "dls-assignment"
  },
  "language_info": {
   "codemirror_mode": {
    "name": "ipython",
    "version": 3
   },
   "file_extension": ".py",
   "mimetype": "text/x-python",
   "name": "python",
   "nbconvert_exporter": "python",
   "pygments_lexer": "ipython3",
   "version": "3.10.6"
  }
 },
 "nbformat": 4,
 "nbformat_minor": 5
}
